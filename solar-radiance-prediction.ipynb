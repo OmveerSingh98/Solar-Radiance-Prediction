{
 "cells": [
  {
   "cell_type": "markdown",
   "metadata": {},
   "source": [
    "# <center><font color = 'crimson'>Solar Irradiance Prediction<font/><center/>"
   ]
  },
  {
   "cell_type": "markdown",
   "metadata": {},
   "source": [
    "### <i>Table of Content<i/>"
   ]
  },
  {
   "cell_type": "markdown",
   "metadata": {},
   "source": [
    "1. [**Importing Libraries**](#import)\n",
    "2. [**Reading Data**](#load_data)\n",
    "3. [**Data Wrangling**](#data_wrangling)\n",
    "4. [**Feature Selection using Correlation Matrix**](#correlation_matrix)\n",
    "5. [**Feature Selection using SelectKBest Method**](#kbest_method)\n",
    "6. [**Feature Selection using Extra Tree Classifier**](#extra_tree)\n",
    "7. [**Feature Engineering with BoxCox, Log, Min-Max and Standard transformation**](#feature_engg)\n",
    "8. [**Preparing data - Standardisation and Splitting**](#data_prep)\n",
    "9. [**Prediction with XGBoost**](#xgboost)\n",
    "10. [**Using MultiLayer Perceptron for prediction**](#perceptron)"
   ]
  },
  {
   "cell_type": "markdown",
   "metadata": {},
   "source": [
    "# <font color = 'green'>Importing Libraries<font/><a class = 'anchor' id = 'import'/>"
   ]
  },
  {
   "cell_type": "code",
   "execution_count": 1,
   "metadata": {
    "execution": {
     "iopub.execute_input": "2022-12-30T15:57:10.577938Z",
     "iopub.status.busy": "2022-12-30T15:57:10.577351Z",
     "iopub.status.idle": "2022-12-30T15:57:18.202021Z",
     "shell.execute_reply": "2022-12-30T15:57:18.200738Z",
     "shell.execute_reply.started": "2022-12-30T15:57:10.57784Z"
    }
   },
   "outputs": [],
   "source": [
    "import re\n",
    "import os\n",
    "import warnings\n",
    "import numpy as np\n",
    "import pandas as pd\n",
    "import matplotlib.pyplot as plt\n",
    "import seaborn as sns\n",
    "import xgboost as xgb\n",
    "from scipy import stats\n",
    "from collections import Counter\n",
    "from xgboost import XGBRegressor\n",
    "from sklearn.preprocessing import StandardScaler, MinMaxScaler, LabelEncoder\n",
    "from sklearn.ensemble import ExtraTreesClassifier\n",
    "from sklearn.feature_selection import SelectKBest\n",
    "from sklearn.feature_selection import chi2\n",
    "from sklearn.model_selection import train_test_split\n",
    "from tensorflow.keras.layers import Dense, Dropout, Activation\n",
    "from tensorflow.keras.optimizers import SGD, Adam\n",
    "from tensorflow.keras.models import Sequential\n",
    "from sklearn.metrics import mean_squared_error, r2_score, mean_absolute_error"
   ]
  },
  {
   "cell_type": "code",
   "execution_count": 2,
   "metadata": {
    "execution": {
     "iopub.execute_input": "2022-12-30T15:57:18.204439Z",
     "iopub.status.busy": "2022-12-30T15:57:18.203559Z",
     "iopub.status.idle": "2022-12-30T15:57:18.210368Z",
     "shell.execute_reply": "2022-12-30T15:57:18.20896Z",
     "shell.execute_reply.started": "2022-12-30T15:57:18.204388Z"
    }
   },
   "outputs": [],
   "source": [
    "warnings.filterwarnings(\"ignore\")"
   ]
  },
  {
   "cell_type": "code",
   "execution_count": 3,
   "metadata": {
    "execution": {
     "iopub.execute_input": "2022-12-30T15:57:18.212526Z",
     "iopub.status.busy": "2022-12-30T15:57:18.212013Z",
     "iopub.status.idle": "2022-12-30T15:57:18.222629Z",
     "shell.execute_reply": "2022-12-30T15:57:18.221427Z",
     "shell.execute_reply.started": "2022-12-30T15:57:18.21248Z"
    }
   },
   "outputs": [],
   "source": [
    "plt.rcParams['figure.figsize'] = (12,6)"
   ]
  },
  {
   "cell_type": "markdown",
   "metadata": {},
   "source": [
    "# <font color = 'violet'>Loading Data<font/><a class = 'anchor' id = 'load_data'/>"
   ]
  },
  {
   "cell_type": "code",
   "execution_count": 4,
   "metadata": {
    "execution": {
     "iopub.execute_input": "2022-12-30T15:57:18.22699Z",
     "iopub.status.busy": "2022-12-30T15:57:18.225897Z",
     "iopub.status.idle": "2022-12-30T15:57:18.23796Z",
     "shell.execute_reply": "2022-12-30T15:57:18.236911Z",
     "shell.execute_reply.started": "2022-12-30T15:57:18.22695Z"
    }
   },
   "outputs": [],
   "source": [
    "for dirname, _, filenames in os.walk('/kaggle/input'):\n",
    "    for filename in filenames:\n",
    "        print(os.path.join(dirname, filename))"
   ]
  },
  {
   "cell_type": "code",
   "execution_count": 5,
   "metadata": {
    "execution": {
     "iopub.execute_input": "2022-12-30T15:57:18.240215Z",
     "iopub.status.busy": "2022-12-30T15:57:18.239431Z",
     "iopub.status.idle": "2022-12-30T15:57:18.346135Z",
     "shell.execute_reply": "2022-12-30T15:57:18.345122Z",
     "shell.execute_reply.started": "2022-12-30T15:57:18.240179Z"
    }
   },
   "outputs": [],
   "source": [
    "data = pd.read_csv(\"SolarPrediction.csv\")"
   ]
  },
  {
   "cell_type": "code",
   "execution_count": 6,
   "metadata": {
    "execution": {
     "iopub.execute_input": "2022-12-30T15:57:18.34832Z",
     "iopub.status.busy": "2022-12-30T15:57:18.347316Z",
     "iopub.status.idle": "2022-12-30T15:57:18.376487Z",
     "shell.execute_reply": "2022-12-30T15:57:18.375061Z",
     "shell.execute_reply.started": "2022-12-30T15:57:18.348279Z"
    }
   },
   "outputs": [
    {
     "data": {
      "text/html": [
       "<div>\n",
       "<style scoped>\n",
       "    .dataframe tbody tr th:only-of-type {\n",
       "        vertical-align: middle;\n",
       "    }\n",
       "\n",
       "    .dataframe tbody tr th {\n",
       "        vertical-align: top;\n",
       "    }\n",
       "\n",
       "    .dataframe thead th {\n",
       "        text-align: right;\n",
       "    }\n",
       "</style>\n",
       "<table border=\"1\" class=\"dataframe\">\n",
       "  <thead>\n",
       "    <tr style=\"text-align: right;\">\n",
       "      <th></th>\n",
       "      <th>UNIXTime</th>\n",
       "      <th>Data</th>\n",
       "      <th>Time</th>\n",
       "      <th>Radiation</th>\n",
       "      <th>Temperature</th>\n",
       "      <th>Pressure</th>\n",
       "      <th>Humidity</th>\n",
       "      <th>WindDirection(Degrees)</th>\n",
       "      <th>Speed</th>\n",
       "      <th>TimeSunRise</th>\n",
       "      <th>TimeSunSet</th>\n",
       "    </tr>\n",
       "  </thead>\n",
       "  <tbody>\n",
       "    <tr>\n",
       "      <th>0</th>\n",
       "      <td>1475229326</td>\n",
       "      <td>9/29/2016 12:00:00 AM</td>\n",
       "      <td>23:55:26</td>\n",
       "      <td>1.21</td>\n",
       "      <td>48</td>\n",
       "      <td>30.46</td>\n",
       "      <td>59</td>\n",
       "      <td>177.39</td>\n",
       "      <td>5.62</td>\n",
       "      <td>06:13:00</td>\n",
       "      <td>18:13:00</td>\n",
       "    </tr>\n",
       "    <tr>\n",
       "      <th>1</th>\n",
       "      <td>1475229023</td>\n",
       "      <td>9/29/2016 12:00:00 AM</td>\n",
       "      <td>23:50:23</td>\n",
       "      <td>1.21</td>\n",
       "      <td>48</td>\n",
       "      <td>30.46</td>\n",
       "      <td>58</td>\n",
       "      <td>176.78</td>\n",
       "      <td>3.37</td>\n",
       "      <td>06:13:00</td>\n",
       "      <td>18:13:00</td>\n",
       "    </tr>\n",
       "    <tr>\n",
       "      <th>2</th>\n",
       "      <td>1475228726</td>\n",
       "      <td>9/29/2016 12:00:00 AM</td>\n",
       "      <td>23:45:26</td>\n",
       "      <td>1.23</td>\n",
       "      <td>48</td>\n",
       "      <td>30.46</td>\n",
       "      <td>57</td>\n",
       "      <td>158.75</td>\n",
       "      <td>3.37</td>\n",
       "      <td>06:13:00</td>\n",
       "      <td>18:13:00</td>\n",
       "    </tr>\n",
       "    <tr>\n",
       "      <th>3</th>\n",
       "      <td>1475228421</td>\n",
       "      <td>9/29/2016 12:00:00 AM</td>\n",
       "      <td>23:40:21</td>\n",
       "      <td>1.21</td>\n",
       "      <td>48</td>\n",
       "      <td>30.46</td>\n",
       "      <td>60</td>\n",
       "      <td>137.71</td>\n",
       "      <td>3.37</td>\n",
       "      <td>06:13:00</td>\n",
       "      <td>18:13:00</td>\n",
       "    </tr>\n",
       "    <tr>\n",
       "      <th>4</th>\n",
       "      <td>1475228124</td>\n",
       "      <td>9/29/2016 12:00:00 AM</td>\n",
       "      <td>23:35:24</td>\n",
       "      <td>1.17</td>\n",
       "      <td>48</td>\n",
       "      <td>30.46</td>\n",
       "      <td>62</td>\n",
       "      <td>104.95</td>\n",
       "      <td>5.62</td>\n",
       "      <td>06:13:00</td>\n",
       "      <td>18:13:00</td>\n",
       "    </tr>\n",
       "  </tbody>\n",
       "</table>\n",
       "</div>"
      ],
      "text/plain": [
       "     UNIXTime                   Data      Time  Radiation  Temperature  \\\n",
       "0  1475229326  9/29/2016 12:00:00 AM  23:55:26       1.21           48   \n",
       "1  1475229023  9/29/2016 12:00:00 AM  23:50:23       1.21           48   \n",
       "2  1475228726  9/29/2016 12:00:00 AM  23:45:26       1.23           48   \n",
       "3  1475228421  9/29/2016 12:00:00 AM  23:40:21       1.21           48   \n",
       "4  1475228124  9/29/2016 12:00:00 AM  23:35:24       1.17           48   \n",
       "\n",
       "   Pressure  Humidity  WindDirection(Degrees)  Speed TimeSunRise TimeSunSet  \n",
       "0     30.46        59                  177.39   5.62    06:13:00   18:13:00  \n",
       "1     30.46        58                  176.78   3.37    06:13:00   18:13:00  \n",
       "2     30.46        57                  158.75   3.37    06:13:00   18:13:00  \n",
       "3     30.46        60                  137.71   3.37    06:13:00   18:13:00  \n",
       "4     30.46        62                  104.95   5.62    06:13:00   18:13:00  "
      ]
     },
     "execution_count": 6,
     "metadata": {},
     "output_type": "execute_result"
    }
   ],
   "source": [
    "data.head()"
   ]
  },
  {
   "cell_type": "code",
   "execution_count": 7,
   "metadata": {
    "execution": {
     "iopub.execute_input": "2022-12-30T15:57:18.378307Z",
     "iopub.status.busy": "2022-12-30T15:57:18.377941Z",
     "iopub.status.idle": "2022-12-30T15:57:18.385606Z",
     "shell.execute_reply": "2022-12-30T15:57:18.384332Z",
     "shell.execute_reply.started": "2022-12-30T15:57:18.378273Z"
    }
   },
   "outputs": [
    {
     "data": {
      "text/plain": [
       "(32686, 11)"
      ]
     },
     "execution_count": 7,
     "metadata": {},
     "output_type": "execute_result"
    }
   ],
   "source": [
    "data.shape"
   ]
  },
  {
   "cell_type": "code",
   "execution_count": 8,
   "metadata": {
    "execution": {
     "iopub.execute_input": "2022-12-30T15:57:18.388476Z",
     "iopub.status.busy": "2022-12-30T15:57:18.387627Z",
     "iopub.status.idle": "2022-12-30T15:57:18.425886Z",
     "shell.execute_reply": "2022-12-30T15:57:18.424528Z",
     "shell.execute_reply.started": "2022-12-30T15:57:18.388418Z"
    }
   },
   "outputs": [
    {
     "name": "stdout",
     "output_type": "stream",
     "text": [
      "<class 'pandas.core.frame.DataFrame'>\n",
      "RangeIndex: 32686 entries, 0 to 32685\n",
      "Data columns (total 11 columns):\n",
      " #   Column                  Non-Null Count  Dtype  \n",
      "---  ------                  --------------  -----  \n",
      " 0   UNIXTime                32686 non-null  int64  \n",
      " 1   Data                    32686 non-null  object \n",
      " 2   Time                    32686 non-null  object \n",
      " 3   Radiation               32686 non-null  float64\n",
      " 4   Temperature             32686 non-null  int64  \n",
      " 5   Pressure                32686 non-null  float64\n",
      " 6   Humidity                32686 non-null  int64  \n",
      " 7   WindDirection(Degrees)  32686 non-null  float64\n",
      " 8   Speed                   32686 non-null  float64\n",
      " 9   TimeSunRise             32686 non-null  object \n",
      " 10  TimeSunSet              32686 non-null  object \n",
      "dtypes: float64(4), int64(3), object(4)\n",
      "memory usage: 2.7+ MB\n"
     ]
    }
   ],
   "source": [
    "data.info()"
   ]
  },
  {
   "cell_type": "markdown",
   "metadata": {},
   "source": [
    "# <font color = 'blue'>Data Wrangling<font/><a class = 'anchor' id = 'data_wrangling'/>"
   ]
  },
  {
   "cell_type": "code",
   "execution_count": 9,
   "metadata": {
    "execution": {
     "iopub.execute_input": "2022-12-30T15:57:18.42777Z",
     "iopub.status.busy": "2022-12-30T15:57:18.427323Z",
     "iopub.status.idle": "2022-12-30T15:57:18.436125Z",
     "shell.execute_reply": "2022-12-30T15:57:18.434675Z",
     "shell.execute_reply.started": "2022-12-30T15:57:18.427733Z"
    }
   },
   "outputs": [],
   "source": [
    "df = data.copy()"
   ]
  },
  {
   "cell_type": "code",
   "execution_count": 10,
   "metadata": {
    "execution": {
     "iopub.execute_input": "2022-12-30T15:57:18.438479Z",
     "iopub.status.busy": "2022-12-30T15:57:18.437972Z",
     "iopub.status.idle": "2022-12-30T15:57:18.460436Z",
     "shell.execute_reply": "2022-12-30T15:57:18.459369Z",
     "shell.execute_reply.started": "2022-12-30T15:57:18.438433Z"
    }
   },
   "outputs": [],
   "source": [
    "# extract the date from the date_time format of the 'Data' parameter\n",
    "\n",
    "df['Data'] = df['Data'].apply(lambda x : x.split()[0])"
   ]
  },
  {
   "cell_type": "code",
   "execution_count": 11,
   "metadata": {
    "execution": {
     "iopub.execute_input": "2022-12-30T15:57:18.462701Z",
     "iopub.status.busy": "2022-12-30T15:57:18.461675Z",
     "iopub.status.idle": "2022-12-30T15:57:23.285178Z",
     "shell.execute_reply": "2022-12-30T15:57:23.283798Z",
     "shell.execute_reply.started": "2022-12-30T15:57:18.462664Z"
    }
   },
   "outputs": [],
   "source": [
    "# extract the date time features from the given parameter using date time python methods\n",
    "\n",
    "df['Month'] = pd.to_datetime(df['Data']).dt.month\n",
    "df['Day'] = pd.to_datetime(df['Data']).dt.day\n",
    "\n",
    "df['Hour'] = pd.to_datetime(df['Time']).dt.hour\n",
    "df['Minute'] = pd.to_datetime(df['Time']).dt.minute\n",
    "df['Second'] = pd.to_datetime(df['Time']).dt.second"
   ]
  },
  {
   "cell_type": "code",
   "execution_count": 12,
   "metadata": {
    "execution": {
     "iopub.execute_input": "2022-12-30T15:57:23.287121Z",
     "iopub.status.busy": "2022-12-30T15:57:23.286651Z",
     "iopub.status.idle": "2022-12-30T15:57:23.308927Z",
     "shell.execute_reply": "2022-12-30T15:57:23.307524Z",
     "shell.execute_reply.started": "2022-12-30T15:57:23.287056Z"
    },
    "scrolled": true
   },
   "outputs": [
    {
     "data": {
      "text/html": [
       "<div>\n",
       "<style scoped>\n",
       "    .dataframe tbody tr th:only-of-type {\n",
       "        vertical-align: middle;\n",
       "    }\n",
       "\n",
       "    .dataframe tbody tr th {\n",
       "        vertical-align: top;\n",
       "    }\n",
       "\n",
       "    .dataframe thead th {\n",
       "        text-align: right;\n",
       "    }\n",
       "</style>\n",
       "<table border=\"1\" class=\"dataframe\">\n",
       "  <thead>\n",
       "    <tr style=\"text-align: right;\">\n",
       "      <th></th>\n",
       "      <th>UNIXTime</th>\n",
       "      <th>Data</th>\n",
       "      <th>Time</th>\n",
       "      <th>Radiation</th>\n",
       "      <th>Temperature</th>\n",
       "      <th>Pressure</th>\n",
       "      <th>Humidity</th>\n",
       "      <th>WindDirection(Degrees)</th>\n",
       "      <th>Speed</th>\n",
       "      <th>TimeSunRise</th>\n",
       "      <th>TimeSunSet</th>\n",
       "      <th>Month</th>\n",
       "      <th>Day</th>\n",
       "      <th>Hour</th>\n",
       "      <th>Minute</th>\n",
       "      <th>Second</th>\n",
       "    </tr>\n",
       "  </thead>\n",
       "  <tbody>\n",
       "    <tr>\n",
       "      <th>0</th>\n",
       "      <td>1475229326</td>\n",
       "      <td>9/29/2016</td>\n",
       "      <td>23:55:26</td>\n",
       "      <td>1.21</td>\n",
       "      <td>48</td>\n",
       "      <td>30.46</td>\n",
       "      <td>59</td>\n",
       "      <td>177.39</td>\n",
       "      <td>5.62</td>\n",
       "      <td>06:13:00</td>\n",
       "      <td>18:13:00</td>\n",
       "      <td>9</td>\n",
       "      <td>29</td>\n",
       "      <td>23</td>\n",
       "      <td>55</td>\n",
       "      <td>26</td>\n",
       "    </tr>\n",
       "    <tr>\n",
       "      <th>1</th>\n",
       "      <td>1475229023</td>\n",
       "      <td>9/29/2016</td>\n",
       "      <td>23:50:23</td>\n",
       "      <td>1.21</td>\n",
       "      <td>48</td>\n",
       "      <td>30.46</td>\n",
       "      <td>58</td>\n",
       "      <td>176.78</td>\n",
       "      <td>3.37</td>\n",
       "      <td>06:13:00</td>\n",
       "      <td>18:13:00</td>\n",
       "      <td>9</td>\n",
       "      <td>29</td>\n",
       "      <td>23</td>\n",
       "      <td>50</td>\n",
       "      <td>23</td>\n",
       "    </tr>\n",
       "    <tr>\n",
       "      <th>2</th>\n",
       "      <td>1475228726</td>\n",
       "      <td>9/29/2016</td>\n",
       "      <td>23:45:26</td>\n",
       "      <td>1.23</td>\n",
       "      <td>48</td>\n",
       "      <td>30.46</td>\n",
       "      <td>57</td>\n",
       "      <td>158.75</td>\n",
       "      <td>3.37</td>\n",
       "      <td>06:13:00</td>\n",
       "      <td>18:13:00</td>\n",
       "      <td>9</td>\n",
       "      <td>29</td>\n",
       "      <td>23</td>\n",
       "      <td>45</td>\n",
       "      <td>26</td>\n",
       "    </tr>\n",
       "    <tr>\n",
       "      <th>3</th>\n",
       "      <td>1475228421</td>\n",
       "      <td>9/29/2016</td>\n",
       "      <td>23:40:21</td>\n",
       "      <td>1.21</td>\n",
       "      <td>48</td>\n",
       "      <td>30.46</td>\n",
       "      <td>60</td>\n",
       "      <td>137.71</td>\n",
       "      <td>3.37</td>\n",
       "      <td>06:13:00</td>\n",
       "      <td>18:13:00</td>\n",
       "      <td>9</td>\n",
       "      <td>29</td>\n",
       "      <td>23</td>\n",
       "      <td>40</td>\n",
       "      <td>21</td>\n",
       "    </tr>\n",
       "    <tr>\n",
       "      <th>4</th>\n",
       "      <td>1475228124</td>\n",
       "      <td>9/29/2016</td>\n",
       "      <td>23:35:24</td>\n",
       "      <td>1.17</td>\n",
       "      <td>48</td>\n",
       "      <td>30.46</td>\n",
       "      <td>62</td>\n",
       "      <td>104.95</td>\n",
       "      <td>5.62</td>\n",
       "      <td>06:13:00</td>\n",
       "      <td>18:13:00</td>\n",
       "      <td>9</td>\n",
       "      <td>29</td>\n",
       "      <td>23</td>\n",
       "      <td>35</td>\n",
       "      <td>24</td>\n",
       "    </tr>\n",
       "  </tbody>\n",
       "</table>\n",
       "</div>"
      ],
      "text/plain": [
       "     UNIXTime       Data      Time  Radiation  Temperature  Pressure  \\\n",
       "0  1475229326  9/29/2016  23:55:26       1.21           48     30.46   \n",
       "1  1475229023  9/29/2016  23:50:23       1.21           48     30.46   \n",
       "2  1475228726  9/29/2016  23:45:26       1.23           48     30.46   \n",
       "3  1475228421  9/29/2016  23:40:21       1.21           48     30.46   \n",
       "4  1475228124  9/29/2016  23:35:24       1.17           48     30.46   \n",
       "\n",
       "   Humidity  WindDirection(Degrees)  Speed TimeSunRise TimeSunSet  Month  Day  \\\n",
       "0        59                  177.39   5.62    06:13:00   18:13:00      9   29   \n",
       "1        58                  176.78   3.37    06:13:00   18:13:00      9   29   \n",
       "2        57                  158.75   3.37    06:13:00   18:13:00      9   29   \n",
       "3        60                  137.71   3.37    06:13:00   18:13:00      9   29   \n",
       "4        62                  104.95   5.62    06:13:00   18:13:00      9   29   \n",
       "\n",
       "   Hour  Minute  Second  \n",
       "0    23      55      26  \n",
       "1    23      50      23  \n",
       "2    23      45      26  \n",
       "3    23      40      21  \n",
       "4    23      35      24  "
      ]
     },
     "execution_count": 12,
     "metadata": {},
     "output_type": "execute_result"
    }
   ],
   "source": [
    "df.head()"
   ]
  },
  {
   "cell_type": "code",
   "execution_count": 13,
   "metadata": {
    "execution": {
     "iopub.execute_input": "2022-12-30T15:57:23.319457Z",
     "iopub.status.busy": "2022-12-30T15:57:23.318983Z",
     "iopub.status.idle": "2022-12-30T15:57:23.548703Z",
     "shell.execute_reply": "2022-12-30T15:57:23.547389Z",
     "shell.execute_reply.started": "2022-12-30T15:57:23.319419Z"
    }
   },
   "outputs": [],
   "source": [
    "# extract the sunrise and sunset information using regular expression\n",
    "\n",
    "df['risehour'] = df['TimeSunRise'].apply(lambda x : re.search(r'^\\d+', x).group(0)).astype(int)\n",
    "df['riseminute'] = df['TimeSunRise'].apply(lambda x : re.search(r'(?<=\\:)\\d+(?=\\:)', x).group(0)).astype(int)\n",
    "\n",
    "df['sethour'] = df['TimeSunSet'].apply(lambda x : re.search(r'^\\d+', x).group(0)).astype(int)\n",
    "df['setminute'] = df['TimeSunSet'].apply(lambda x : re.search(r'(?<=\\:)\\d+(?=\\:)', x).group(0)).astype(int)"
   ]
  },
  {
   "cell_type": "code",
   "execution_count": 14,
   "metadata": {
    "execution": {
     "iopub.execute_input": "2022-12-30T15:57:23.550479Z",
     "iopub.status.busy": "2022-12-30T15:57:23.550133Z",
     "iopub.status.idle": "2022-12-30T15:57:23.574326Z",
     "shell.execute_reply": "2022-12-30T15:57:23.573012Z",
     "shell.execute_reply.started": "2022-12-30T15:57:23.550448Z"
    },
    "scrolled": true
   },
   "outputs": [
    {
     "data": {
      "text/html": [
       "<div>\n",
       "<style scoped>\n",
       "    .dataframe tbody tr th:only-of-type {\n",
       "        vertical-align: middle;\n",
       "    }\n",
       "\n",
       "    .dataframe tbody tr th {\n",
       "        vertical-align: top;\n",
       "    }\n",
       "\n",
       "    .dataframe thead th {\n",
       "        text-align: right;\n",
       "    }\n",
       "</style>\n",
       "<table border=\"1\" class=\"dataframe\">\n",
       "  <thead>\n",
       "    <tr style=\"text-align: right;\">\n",
       "      <th></th>\n",
       "      <th>UNIXTime</th>\n",
       "      <th>Data</th>\n",
       "      <th>Time</th>\n",
       "      <th>Radiation</th>\n",
       "      <th>Temperature</th>\n",
       "      <th>Pressure</th>\n",
       "      <th>Humidity</th>\n",
       "      <th>WindDirection(Degrees)</th>\n",
       "      <th>Speed</th>\n",
       "      <th>TimeSunRise</th>\n",
       "      <th>TimeSunSet</th>\n",
       "      <th>Month</th>\n",
       "      <th>Day</th>\n",
       "      <th>Hour</th>\n",
       "      <th>Minute</th>\n",
       "      <th>Second</th>\n",
       "      <th>risehour</th>\n",
       "      <th>riseminute</th>\n",
       "      <th>sethour</th>\n",
       "      <th>setminute</th>\n",
       "    </tr>\n",
       "  </thead>\n",
       "  <tbody>\n",
       "    <tr>\n",
       "      <th>0</th>\n",
       "      <td>1475229326</td>\n",
       "      <td>9/29/2016</td>\n",
       "      <td>23:55:26</td>\n",
       "      <td>1.21</td>\n",
       "      <td>48</td>\n",
       "      <td>30.46</td>\n",
       "      <td>59</td>\n",
       "      <td>177.39</td>\n",
       "      <td>5.62</td>\n",
       "      <td>06:13:00</td>\n",
       "      <td>18:13:00</td>\n",
       "      <td>9</td>\n",
       "      <td>29</td>\n",
       "      <td>23</td>\n",
       "      <td>55</td>\n",
       "      <td>26</td>\n",
       "      <td>6</td>\n",
       "      <td>13</td>\n",
       "      <td>18</td>\n",
       "      <td>13</td>\n",
       "    </tr>\n",
       "    <tr>\n",
       "      <th>1</th>\n",
       "      <td>1475229023</td>\n",
       "      <td>9/29/2016</td>\n",
       "      <td>23:50:23</td>\n",
       "      <td>1.21</td>\n",
       "      <td>48</td>\n",
       "      <td>30.46</td>\n",
       "      <td>58</td>\n",
       "      <td>176.78</td>\n",
       "      <td>3.37</td>\n",
       "      <td>06:13:00</td>\n",
       "      <td>18:13:00</td>\n",
       "      <td>9</td>\n",
       "      <td>29</td>\n",
       "      <td>23</td>\n",
       "      <td>50</td>\n",
       "      <td>23</td>\n",
       "      <td>6</td>\n",
       "      <td>13</td>\n",
       "      <td>18</td>\n",
       "      <td>13</td>\n",
       "    </tr>\n",
       "    <tr>\n",
       "      <th>2</th>\n",
       "      <td>1475228726</td>\n",
       "      <td>9/29/2016</td>\n",
       "      <td>23:45:26</td>\n",
       "      <td>1.23</td>\n",
       "      <td>48</td>\n",
       "      <td>30.46</td>\n",
       "      <td>57</td>\n",
       "      <td>158.75</td>\n",
       "      <td>3.37</td>\n",
       "      <td>06:13:00</td>\n",
       "      <td>18:13:00</td>\n",
       "      <td>9</td>\n",
       "      <td>29</td>\n",
       "      <td>23</td>\n",
       "      <td>45</td>\n",
       "      <td>26</td>\n",
       "      <td>6</td>\n",
       "      <td>13</td>\n",
       "      <td>18</td>\n",
       "      <td>13</td>\n",
       "    </tr>\n",
       "    <tr>\n",
       "      <th>3</th>\n",
       "      <td>1475228421</td>\n",
       "      <td>9/29/2016</td>\n",
       "      <td>23:40:21</td>\n",
       "      <td>1.21</td>\n",
       "      <td>48</td>\n",
       "      <td>30.46</td>\n",
       "      <td>60</td>\n",
       "      <td>137.71</td>\n",
       "      <td>3.37</td>\n",
       "      <td>06:13:00</td>\n",
       "      <td>18:13:00</td>\n",
       "      <td>9</td>\n",
       "      <td>29</td>\n",
       "      <td>23</td>\n",
       "      <td>40</td>\n",
       "      <td>21</td>\n",
       "      <td>6</td>\n",
       "      <td>13</td>\n",
       "      <td>18</td>\n",
       "      <td>13</td>\n",
       "    </tr>\n",
       "    <tr>\n",
       "      <th>4</th>\n",
       "      <td>1475228124</td>\n",
       "      <td>9/29/2016</td>\n",
       "      <td>23:35:24</td>\n",
       "      <td>1.17</td>\n",
       "      <td>48</td>\n",
       "      <td>30.46</td>\n",
       "      <td>62</td>\n",
       "      <td>104.95</td>\n",
       "      <td>5.62</td>\n",
       "      <td>06:13:00</td>\n",
       "      <td>18:13:00</td>\n",
       "      <td>9</td>\n",
       "      <td>29</td>\n",
       "      <td>23</td>\n",
       "      <td>35</td>\n",
       "      <td>24</td>\n",
       "      <td>6</td>\n",
       "      <td>13</td>\n",
       "      <td>18</td>\n",
       "      <td>13</td>\n",
       "    </tr>\n",
       "  </tbody>\n",
       "</table>\n",
       "</div>"
      ],
      "text/plain": [
       "     UNIXTime       Data      Time  Radiation  Temperature  Pressure  \\\n",
       "0  1475229326  9/29/2016  23:55:26       1.21           48     30.46   \n",
       "1  1475229023  9/29/2016  23:50:23       1.21           48     30.46   \n",
       "2  1475228726  9/29/2016  23:45:26       1.23           48     30.46   \n",
       "3  1475228421  9/29/2016  23:40:21       1.21           48     30.46   \n",
       "4  1475228124  9/29/2016  23:35:24       1.17           48     30.46   \n",
       "\n",
       "   Humidity  WindDirection(Degrees)  Speed TimeSunRise TimeSunSet  Month  Day  \\\n",
       "0        59                  177.39   5.62    06:13:00   18:13:00      9   29   \n",
       "1        58                  176.78   3.37    06:13:00   18:13:00      9   29   \n",
       "2        57                  158.75   3.37    06:13:00   18:13:00      9   29   \n",
       "3        60                  137.71   3.37    06:13:00   18:13:00      9   29   \n",
       "4        62                  104.95   5.62    06:13:00   18:13:00      9   29   \n",
       "\n",
       "   Hour  Minute  Second  risehour  riseminute  sethour  setminute  \n",
       "0    23      55      26         6          13       18         13  \n",
       "1    23      50      23         6          13       18         13  \n",
       "2    23      45      26         6          13       18         13  \n",
       "3    23      40      21         6          13       18         13  \n",
       "4    23      35      24         6          13       18         13  "
      ]
     },
     "execution_count": 14,
     "metadata": {},
     "output_type": "execute_result"
    }
   ],
   "source": [
    "df.head()"
   ]
  },
  {
   "cell_type": "code",
   "execution_count": 15,
   "metadata": {
    "execution": {
     "iopub.execute_input": "2022-12-30T15:57:23.576291Z",
     "iopub.status.busy": "2022-12-30T15:57:23.575894Z",
     "iopub.status.idle": "2022-12-30T15:57:23.596754Z",
     "shell.execute_reply": "2022-12-30T15:57:23.59567Z",
     "shell.execute_reply.started": "2022-12-30T15:57:23.576256Z"
    }
   },
   "outputs": [],
   "source": [
    "# drop the parameters that are not required after extracting the relevant information\n",
    "\n",
    "df.drop(['UNIXTime', 'Data', 'Time', 'TimeSunRise', 'TimeSunSet'], axis = 1, inplace = True)"
   ]
  },
  {
   "cell_type": "code",
   "execution_count": 16,
   "metadata": {
    "execution": {
     "iopub.execute_input": "2022-12-30T15:57:23.598405Z",
     "iopub.status.busy": "2022-12-30T15:57:23.598007Z",
     "iopub.status.idle": "2022-12-30T15:57:23.604348Z",
     "shell.execute_reply": "2022-12-30T15:57:23.603452Z",
     "shell.execute_reply.started": "2022-12-30T15:57:23.598371Z"
    }
   },
   "outputs": [
    {
     "data": {
      "text/plain": [
       "(32686, 15)"
      ]
     },
     "execution_count": 16,
     "metadata": {},
     "output_type": "execute_result"
    }
   ],
   "source": [
    "df.shape"
   ]
  },
  {
   "cell_type": "code",
   "execution_count": 17,
   "metadata": {
    "execution": {
     "iopub.execute_input": "2022-12-30T15:57:23.606522Z",
     "iopub.status.busy": "2022-12-30T15:57:23.606103Z",
     "iopub.status.idle": "2022-12-30T15:57:23.627628Z",
     "shell.execute_reply": "2022-12-30T15:57:23.626399Z",
     "shell.execute_reply.started": "2022-12-30T15:57:23.606476Z"
    },
    "scrolled": true
   },
   "outputs": [
    {
     "data": {
      "text/html": [
       "<div>\n",
       "<style scoped>\n",
       "    .dataframe tbody tr th:only-of-type {\n",
       "        vertical-align: middle;\n",
       "    }\n",
       "\n",
       "    .dataframe tbody tr th {\n",
       "        vertical-align: top;\n",
       "    }\n",
       "\n",
       "    .dataframe thead th {\n",
       "        text-align: right;\n",
       "    }\n",
       "</style>\n",
       "<table border=\"1\" class=\"dataframe\">\n",
       "  <thead>\n",
       "    <tr style=\"text-align: right;\">\n",
       "      <th></th>\n",
       "      <th>Radiation</th>\n",
       "      <th>Temperature</th>\n",
       "      <th>Pressure</th>\n",
       "      <th>Humidity</th>\n",
       "      <th>WindDirection(Degrees)</th>\n",
       "      <th>Speed</th>\n",
       "      <th>Month</th>\n",
       "      <th>Day</th>\n",
       "      <th>Hour</th>\n",
       "      <th>Minute</th>\n",
       "      <th>Second</th>\n",
       "      <th>risehour</th>\n",
       "      <th>riseminute</th>\n",
       "      <th>sethour</th>\n",
       "      <th>setminute</th>\n",
       "    </tr>\n",
       "  </thead>\n",
       "  <tbody>\n",
       "    <tr>\n",
       "      <th>0</th>\n",
       "      <td>1.21</td>\n",
       "      <td>48</td>\n",
       "      <td>30.46</td>\n",
       "      <td>59</td>\n",
       "      <td>177.39</td>\n",
       "      <td>5.62</td>\n",
       "      <td>9</td>\n",
       "      <td>29</td>\n",
       "      <td>23</td>\n",
       "      <td>55</td>\n",
       "      <td>26</td>\n",
       "      <td>6</td>\n",
       "      <td>13</td>\n",
       "      <td>18</td>\n",
       "      <td>13</td>\n",
       "    </tr>\n",
       "    <tr>\n",
       "      <th>1</th>\n",
       "      <td>1.21</td>\n",
       "      <td>48</td>\n",
       "      <td>30.46</td>\n",
       "      <td>58</td>\n",
       "      <td>176.78</td>\n",
       "      <td>3.37</td>\n",
       "      <td>9</td>\n",
       "      <td>29</td>\n",
       "      <td>23</td>\n",
       "      <td>50</td>\n",
       "      <td>23</td>\n",
       "      <td>6</td>\n",
       "      <td>13</td>\n",
       "      <td>18</td>\n",
       "      <td>13</td>\n",
       "    </tr>\n",
       "    <tr>\n",
       "      <th>2</th>\n",
       "      <td>1.23</td>\n",
       "      <td>48</td>\n",
       "      <td>30.46</td>\n",
       "      <td>57</td>\n",
       "      <td>158.75</td>\n",
       "      <td>3.37</td>\n",
       "      <td>9</td>\n",
       "      <td>29</td>\n",
       "      <td>23</td>\n",
       "      <td>45</td>\n",
       "      <td>26</td>\n",
       "      <td>6</td>\n",
       "      <td>13</td>\n",
       "      <td>18</td>\n",
       "      <td>13</td>\n",
       "    </tr>\n",
       "    <tr>\n",
       "      <th>3</th>\n",
       "      <td>1.21</td>\n",
       "      <td>48</td>\n",
       "      <td>30.46</td>\n",
       "      <td>60</td>\n",
       "      <td>137.71</td>\n",
       "      <td>3.37</td>\n",
       "      <td>9</td>\n",
       "      <td>29</td>\n",
       "      <td>23</td>\n",
       "      <td>40</td>\n",
       "      <td>21</td>\n",
       "      <td>6</td>\n",
       "      <td>13</td>\n",
       "      <td>18</td>\n",
       "      <td>13</td>\n",
       "    </tr>\n",
       "    <tr>\n",
       "      <th>4</th>\n",
       "      <td>1.17</td>\n",
       "      <td>48</td>\n",
       "      <td>30.46</td>\n",
       "      <td>62</td>\n",
       "      <td>104.95</td>\n",
       "      <td>5.62</td>\n",
       "      <td>9</td>\n",
       "      <td>29</td>\n",
       "      <td>23</td>\n",
       "      <td>35</td>\n",
       "      <td>24</td>\n",
       "      <td>6</td>\n",
       "      <td>13</td>\n",
       "      <td>18</td>\n",
       "      <td>13</td>\n",
       "    </tr>\n",
       "  </tbody>\n",
       "</table>\n",
       "</div>"
      ],
      "text/plain": [
       "   Radiation  Temperature  Pressure  Humidity  WindDirection(Degrees)  Speed  \\\n",
       "0       1.21           48     30.46        59                  177.39   5.62   \n",
       "1       1.21           48     30.46        58                  176.78   3.37   \n",
       "2       1.23           48     30.46        57                  158.75   3.37   \n",
       "3       1.21           48     30.46        60                  137.71   3.37   \n",
       "4       1.17           48     30.46        62                  104.95   5.62   \n",
       "\n",
       "   Month  Day  Hour  Minute  Second  risehour  riseminute  sethour  setminute  \n",
       "0      9   29    23      55      26         6          13       18         13  \n",
       "1      9   29    23      50      23         6          13       18         13  \n",
       "2      9   29    23      45      26         6          13       18         13  \n",
       "3      9   29    23      40      21         6          13       18         13  \n",
       "4      9   29    23      35      24         6          13       18         13  "
      ]
     },
     "execution_count": 17,
     "metadata": {},
     "output_type": "execute_result"
    }
   ],
   "source": [
    "df.head()"
   ]
  },
  {
   "cell_type": "code",
   "execution_count": 18,
   "metadata": {
    "execution": {
     "iopub.execute_input": "2022-12-30T15:57:23.629575Z",
     "iopub.status.busy": "2022-12-30T15:57:23.629193Z",
     "iopub.status.idle": "2022-12-30T15:57:23.643048Z",
     "shell.execute_reply": "2022-12-30T15:57:23.641542Z",
     "shell.execute_reply.started": "2022-12-30T15:57:23.629545Z"
    }
   },
   "outputs": [
    {
     "data": {
      "text/plain": [
       "array([1.21, 1.21, 1.23, ..., 1.2 , 1.23, 1.2 ])"
      ]
     },
     "execution_count": 18,
     "metadata": {},
     "output_type": "execute_result"
    }
   ],
   "source": [
    "np.array(df['Radiation'])"
   ]
  },
  {
   "cell_type": "code",
   "execution_count": 19,
   "metadata": {
    "execution": {
     "iopub.execute_input": "2022-12-30T15:57:23.646287Z",
     "iopub.status.busy": "2022-12-30T15:57:23.645621Z",
     "iopub.status.idle": "2022-12-30T15:57:23.65614Z",
     "shell.execute_reply": "2022-12-30T15:57:23.654407Z",
     "shell.execute_reply.started": "2022-12-30T15:57:23.646239Z"
    }
   },
   "outputs": [],
   "source": [
    "input_features = df.drop('Radiation', axis = 1)\n",
    "target = df['Radiation']"
   ]
  },
  {
   "cell_type": "markdown",
   "metadata": {},
   "source": [
    "# <font color = 'pink'>Feature Selection using Correlation Matrix<font/><a class = 'anchor' id = 'correlation_matrix'/>"
   ]
  },
  {
   "cell_type": "markdown",
   "metadata": {},
   "source": [
    "$$\n",
    "r=\\frac{\\sum\\left(x_i-\\bar{x}\\right)\\left(y_i-\\bar{y}\\right)}{\\sqrt{\\sum\\left(x_i-\\bar{x}\\right)^2 \\sum\\left(y_i-\\bar{y}\\right)^2}}\n",
    "$$\n",
    "- $r=$ correlation coefficient\n",
    "- $x_i=$ values of the $\\mathrm{x}$-variable in a sample\n",
    "- $\\bar{x}=$ mean of the values of the $\\mathrm{x}$-variable\n",
    "- $y_i=$ values of the $y$-variable in a sample\n",
    "- $\\bar{y}=$ mean of the values of the $y$-variable"
   ]
  },
  {
   "cell_type": "code",
   "execution_count": 20,
   "metadata": {
    "execution": {
     "iopub.execute_input": "2022-12-30T15:57:23.659367Z",
     "iopub.status.busy": "2022-12-30T15:57:23.658178Z",
     "iopub.status.idle": "2022-12-30T15:57:23.714962Z",
     "shell.execute_reply": "2022-12-30T15:57:23.713942Z",
     "shell.execute_reply.started": "2022-12-30T15:57:23.659298Z"
    },
    "scrolled": true
   },
   "outputs": [
    {
     "data": {
      "text/html": [
       "<div>\n",
       "<style scoped>\n",
       "    .dataframe tbody tr th:only-of-type {\n",
       "        vertical-align: middle;\n",
       "    }\n",
       "\n",
       "    .dataframe tbody tr th {\n",
       "        vertical-align: top;\n",
       "    }\n",
       "\n",
       "    .dataframe thead th {\n",
       "        text-align: right;\n",
       "    }\n",
       "</style>\n",
       "<table border=\"1\" class=\"dataframe\">\n",
       "  <thead>\n",
       "    <tr style=\"text-align: right;\">\n",
       "      <th></th>\n",
       "      <th>Radiation</th>\n",
       "      <th>Temperature</th>\n",
       "      <th>Pressure</th>\n",
       "      <th>Humidity</th>\n",
       "      <th>WindDirection(Degrees)</th>\n",
       "      <th>Speed</th>\n",
       "      <th>Month</th>\n",
       "      <th>Day</th>\n",
       "      <th>Hour</th>\n",
       "      <th>Minute</th>\n",
       "      <th>Second</th>\n",
       "      <th>risehour</th>\n",
       "      <th>riseminute</th>\n",
       "      <th>sethour</th>\n",
       "      <th>setminute</th>\n",
       "    </tr>\n",
       "  </thead>\n",
       "  <tbody>\n",
       "    <tr>\n",
       "      <th>Radiation</th>\n",
       "      <td>1.000000</td>\n",
       "      <td>0.734955</td>\n",
       "      <td>0.119016</td>\n",
       "      <td>-0.226171</td>\n",
       "      <td>-0.230324</td>\n",
       "      <td>0.073627</td>\n",
       "      <td>-0.095450</td>\n",
       "      <td>0.039978</td>\n",
       "      <td>0.004398</td>\n",
       "      <td>-0.000730</td>\n",
       "      <td>-0.031270</td>\n",
       "      <td>NaN</td>\n",
       "      <td>-0.092850</td>\n",
       "      <td>0.048719</td>\n",
       "      <td>-0.039816</td>\n",
       "    </tr>\n",
       "    <tr>\n",
       "      <th>Temperature</th>\n",
       "      <td>0.734955</td>\n",
       "      <td>1.000000</td>\n",
       "      <td>0.311173</td>\n",
       "      <td>-0.285055</td>\n",
       "      <td>-0.259421</td>\n",
       "      <td>-0.031458</td>\n",
       "      <td>-0.354560</td>\n",
       "      <td>-0.123705</td>\n",
       "      <td>0.197464</td>\n",
       "      <td>-0.001934</td>\n",
       "      <td>-0.036147</td>\n",
       "      <td>NaN</td>\n",
       "      <td>-0.380968</td>\n",
       "      <td>0.300920</td>\n",
       "      <td>-0.242881</td>\n",
       "    </tr>\n",
       "    <tr>\n",
       "      <th>Pressure</th>\n",
       "      <td>0.119016</td>\n",
       "      <td>0.311173</td>\n",
       "      <td>1.000000</td>\n",
       "      <td>-0.223973</td>\n",
       "      <td>-0.229010</td>\n",
       "      <td>-0.083639</td>\n",
       "      <td>-0.341759</td>\n",
       "      <td>-0.024633</td>\n",
       "      <td>0.091069</td>\n",
       "      <td>0.001860</td>\n",
       "      <td>-0.031102</td>\n",
       "      <td>NaN</td>\n",
       "      <td>-0.380399</td>\n",
       "      <td>0.151939</td>\n",
       "      <td>-0.119599</td>\n",
       "    </tr>\n",
       "    <tr>\n",
       "      <th>Humidity</th>\n",
       "      <td>-0.226171</td>\n",
       "      <td>-0.285055</td>\n",
       "      <td>-0.223973</td>\n",
       "      <td>1.000000</td>\n",
       "      <td>-0.001833</td>\n",
       "      <td>-0.211624</td>\n",
       "      <td>-0.068854</td>\n",
       "      <td>0.014637</td>\n",
       "      <td>0.077899</td>\n",
       "      <td>0.000499</td>\n",
       "      <td>-0.027682</td>\n",
       "      <td>NaN</td>\n",
       "      <td>-0.023955</td>\n",
       "      <td>0.145143</td>\n",
       "      <td>-0.119526</td>\n",
       "    </tr>\n",
       "    <tr>\n",
       "      <th>WindDirection(Degrees)</th>\n",
       "      <td>-0.230324</td>\n",
       "      <td>-0.259421</td>\n",
       "      <td>-0.229010</td>\n",
       "      <td>-0.001833</td>\n",
       "      <td>1.000000</td>\n",
       "      <td>0.073092</td>\n",
       "      <td>0.181485</td>\n",
       "      <td>-0.082354</td>\n",
       "      <td>-0.077969</td>\n",
       "      <td>-0.000602</td>\n",
       "      <td>-0.032568</td>\n",
       "      <td>NaN</td>\n",
       "      <td>0.176929</td>\n",
       "      <td>-0.078540</td>\n",
       "      <td>0.070030</td>\n",
       "    </tr>\n",
       "    <tr>\n",
       "      <th>Speed</th>\n",
       "      <td>0.073627</td>\n",
       "      <td>-0.031458</td>\n",
       "      <td>-0.083639</td>\n",
       "      <td>-0.211624</td>\n",
       "      <td>0.073092</td>\n",
       "      <td>1.000000</td>\n",
       "      <td>0.150822</td>\n",
       "      <td>0.117337</td>\n",
       "      <td>-0.057939</td>\n",
       "      <td>0.000192</td>\n",
       "      <td>-0.032934</td>\n",
       "      <td>NaN</td>\n",
       "      <td>0.167075</td>\n",
       "      <td>-0.159384</td>\n",
       "      <td>0.119926</td>\n",
       "    </tr>\n",
       "    <tr>\n",
       "      <th>Month</th>\n",
       "      <td>-0.095450</td>\n",
       "      <td>-0.354560</td>\n",
       "      <td>-0.341759</td>\n",
       "      <td>-0.068854</td>\n",
       "      <td>0.181485</td>\n",
       "      <td>0.150822</td>\n",
       "      <td>1.000000</td>\n",
       "      <td>0.038027</td>\n",
       "      <td>-0.005396</td>\n",
       "      <td>0.000168</td>\n",
       "      <td>0.220563</td>\n",
       "      <td>NaN</td>\n",
       "      <td>0.952472</td>\n",
       "      <td>-0.784783</td>\n",
       "      <td>0.541883</td>\n",
       "    </tr>\n",
       "    <tr>\n",
       "      <th>Day</th>\n",
       "      <td>0.039978</td>\n",
       "      <td>-0.123705</td>\n",
       "      <td>-0.024633</td>\n",
       "      <td>0.014637</td>\n",
       "      <td>-0.082354</td>\n",
       "      <td>0.117337</td>\n",
       "      <td>0.038027</td>\n",
       "      <td>1.000000</td>\n",
       "      <td>-0.008010</td>\n",
       "      <td>-0.000196</td>\n",
       "      <td>0.089078</td>\n",
       "      <td>NaN</td>\n",
       "      <td>0.274522</td>\n",
       "      <td>-0.263575</td>\n",
       "      <td>0.265662</td>\n",
       "    </tr>\n",
       "    <tr>\n",
       "      <th>Hour</th>\n",
       "      <td>0.004398</td>\n",
       "      <td>0.197464</td>\n",
       "      <td>0.091069</td>\n",
       "      <td>0.077899</td>\n",
       "      <td>-0.077969</td>\n",
       "      <td>-0.057939</td>\n",
       "      <td>-0.005396</td>\n",
       "      <td>-0.008010</td>\n",
       "      <td>1.000000</td>\n",
       "      <td>-0.004052</td>\n",
       "      <td>0.004199</td>\n",
       "      <td>NaN</td>\n",
       "      <td>-0.006772</td>\n",
       "      <td>0.008629</td>\n",
       "      <td>-0.007056</td>\n",
       "    </tr>\n",
       "    <tr>\n",
       "      <th>Minute</th>\n",
       "      <td>-0.000730</td>\n",
       "      <td>-0.001934</td>\n",
       "      <td>0.001860</td>\n",
       "      <td>0.000499</td>\n",
       "      <td>-0.000602</td>\n",
       "      <td>0.000192</td>\n",
       "      <td>0.000168</td>\n",
       "      <td>-0.000196</td>\n",
       "      <td>-0.004052</td>\n",
       "      <td>1.000000</td>\n",
       "      <td>0.002517</td>\n",
       "      <td>NaN</td>\n",
       "      <td>-0.000158</td>\n",
       "      <td>0.001052</td>\n",
       "      <td>-0.002215</td>\n",
       "    </tr>\n",
       "    <tr>\n",
       "      <th>Second</th>\n",
       "      <td>-0.031270</td>\n",
       "      <td>-0.036147</td>\n",
       "      <td>-0.031102</td>\n",
       "      <td>-0.027682</td>\n",
       "      <td>-0.032568</td>\n",
       "      <td>-0.032934</td>\n",
       "      <td>0.220563</td>\n",
       "      <td>0.089078</td>\n",
       "      <td>0.004199</td>\n",
       "      <td>0.002517</td>\n",
       "      <td>1.000000</td>\n",
       "      <td>NaN</td>\n",
       "      <td>0.258917</td>\n",
       "      <td>-0.037743</td>\n",
       "      <td>0.003571</td>\n",
       "    </tr>\n",
       "    <tr>\n",
       "      <th>risehour</th>\n",
       "      <td>NaN</td>\n",
       "      <td>NaN</td>\n",
       "      <td>NaN</td>\n",
       "      <td>NaN</td>\n",
       "      <td>NaN</td>\n",
       "      <td>NaN</td>\n",
       "      <td>NaN</td>\n",
       "      <td>NaN</td>\n",
       "      <td>NaN</td>\n",
       "      <td>NaN</td>\n",
       "      <td>NaN</td>\n",
       "      <td>NaN</td>\n",
       "      <td>NaN</td>\n",
       "      <td>NaN</td>\n",
       "      <td>NaN</td>\n",
       "    </tr>\n",
       "    <tr>\n",
       "      <th>riseminute</th>\n",
       "      <td>-0.092850</td>\n",
       "      <td>-0.380968</td>\n",
       "      <td>-0.380399</td>\n",
       "      <td>-0.023955</td>\n",
       "      <td>0.176929</td>\n",
       "      <td>0.167075</td>\n",
       "      <td>0.952472</td>\n",
       "      <td>0.274522</td>\n",
       "      <td>-0.006772</td>\n",
       "      <td>-0.000158</td>\n",
       "      <td>0.258917</td>\n",
       "      <td>NaN</td>\n",
       "      <td>1.000000</td>\n",
       "      <td>-0.742329</td>\n",
       "      <td>0.562851</td>\n",
       "    </tr>\n",
       "    <tr>\n",
       "      <th>sethour</th>\n",
       "      <td>0.048719</td>\n",
       "      <td>0.300920</td>\n",
       "      <td>0.151939</td>\n",
       "      <td>0.145143</td>\n",
       "      <td>-0.078540</td>\n",
       "      <td>-0.159384</td>\n",
       "      <td>-0.784783</td>\n",
       "      <td>-0.263575</td>\n",
       "      <td>0.008629</td>\n",
       "      <td>0.001052</td>\n",
       "      <td>-0.037743</td>\n",
       "      <td>NaN</td>\n",
       "      <td>-0.742329</td>\n",
       "      <td>1.000000</td>\n",
       "      <td>-0.873471</td>\n",
       "    </tr>\n",
       "    <tr>\n",
       "      <th>setminute</th>\n",
       "      <td>-0.039816</td>\n",
       "      <td>-0.242881</td>\n",
       "      <td>-0.119599</td>\n",
       "      <td>-0.119526</td>\n",
       "      <td>0.070030</td>\n",
       "      <td>0.119926</td>\n",
       "      <td>0.541883</td>\n",
       "      <td>0.265662</td>\n",
       "      <td>-0.007056</td>\n",
       "      <td>-0.002215</td>\n",
       "      <td>0.003571</td>\n",
       "      <td>NaN</td>\n",
       "      <td>0.562851</td>\n",
       "      <td>-0.873471</td>\n",
       "      <td>1.000000</td>\n",
       "    </tr>\n",
       "  </tbody>\n",
       "</table>\n",
       "</div>"
      ],
      "text/plain": [
       "                        Radiation  Temperature  Pressure  Humidity  \\\n",
       "Radiation                1.000000     0.734955  0.119016 -0.226171   \n",
       "Temperature              0.734955     1.000000  0.311173 -0.285055   \n",
       "Pressure                 0.119016     0.311173  1.000000 -0.223973   \n",
       "Humidity                -0.226171    -0.285055 -0.223973  1.000000   \n",
       "WindDirection(Degrees)  -0.230324    -0.259421 -0.229010 -0.001833   \n",
       "Speed                    0.073627    -0.031458 -0.083639 -0.211624   \n",
       "Month                   -0.095450    -0.354560 -0.341759 -0.068854   \n",
       "Day                      0.039978    -0.123705 -0.024633  0.014637   \n",
       "Hour                     0.004398     0.197464  0.091069  0.077899   \n",
       "Minute                  -0.000730    -0.001934  0.001860  0.000499   \n",
       "Second                  -0.031270    -0.036147 -0.031102 -0.027682   \n",
       "risehour                      NaN          NaN       NaN       NaN   \n",
       "riseminute              -0.092850    -0.380968 -0.380399 -0.023955   \n",
       "sethour                  0.048719     0.300920  0.151939  0.145143   \n",
       "setminute               -0.039816    -0.242881 -0.119599 -0.119526   \n",
       "\n",
       "                        WindDirection(Degrees)     Speed     Month       Day  \\\n",
       "Radiation                            -0.230324  0.073627 -0.095450  0.039978   \n",
       "Temperature                          -0.259421 -0.031458 -0.354560 -0.123705   \n",
       "Pressure                             -0.229010 -0.083639 -0.341759 -0.024633   \n",
       "Humidity                             -0.001833 -0.211624 -0.068854  0.014637   \n",
       "WindDirection(Degrees)                1.000000  0.073092  0.181485 -0.082354   \n",
       "Speed                                 0.073092  1.000000  0.150822  0.117337   \n",
       "Month                                 0.181485  0.150822  1.000000  0.038027   \n",
       "Day                                  -0.082354  0.117337  0.038027  1.000000   \n",
       "Hour                                 -0.077969 -0.057939 -0.005396 -0.008010   \n",
       "Minute                               -0.000602  0.000192  0.000168 -0.000196   \n",
       "Second                               -0.032568 -0.032934  0.220563  0.089078   \n",
       "risehour                                   NaN       NaN       NaN       NaN   \n",
       "riseminute                            0.176929  0.167075  0.952472  0.274522   \n",
       "sethour                              -0.078540 -0.159384 -0.784783 -0.263575   \n",
       "setminute                             0.070030  0.119926  0.541883  0.265662   \n",
       "\n",
       "                            Hour    Minute    Second  risehour  riseminute  \\\n",
       "Radiation               0.004398 -0.000730 -0.031270       NaN   -0.092850   \n",
       "Temperature             0.197464 -0.001934 -0.036147       NaN   -0.380968   \n",
       "Pressure                0.091069  0.001860 -0.031102       NaN   -0.380399   \n",
       "Humidity                0.077899  0.000499 -0.027682       NaN   -0.023955   \n",
       "WindDirection(Degrees) -0.077969 -0.000602 -0.032568       NaN    0.176929   \n",
       "Speed                  -0.057939  0.000192 -0.032934       NaN    0.167075   \n",
       "Month                  -0.005396  0.000168  0.220563       NaN    0.952472   \n",
       "Day                    -0.008010 -0.000196  0.089078       NaN    0.274522   \n",
       "Hour                    1.000000 -0.004052  0.004199       NaN   -0.006772   \n",
       "Minute                 -0.004052  1.000000  0.002517       NaN   -0.000158   \n",
       "Second                  0.004199  0.002517  1.000000       NaN    0.258917   \n",
       "risehour                     NaN       NaN       NaN       NaN         NaN   \n",
       "riseminute             -0.006772 -0.000158  0.258917       NaN    1.000000   \n",
       "sethour                 0.008629  0.001052 -0.037743       NaN   -0.742329   \n",
       "setminute              -0.007056 -0.002215  0.003571       NaN    0.562851   \n",
       "\n",
       "                         sethour  setminute  \n",
       "Radiation               0.048719  -0.039816  \n",
       "Temperature             0.300920  -0.242881  \n",
       "Pressure                0.151939  -0.119599  \n",
       "Humidity                0.145143  -0.119526  \n",
       "WindDirection(Degrees) -0.078540   0.070030  \n",
       "Speed                  -0.159384   0.119926  \n",
       "Month                  -0.784783   0.541883  \n",
       "Day                    -0.263575   0.265662  \n",
       "Hour                    0.008629  -0.007056  \n",
       "Minute                  0.001052  -0.002215  \n",
       "Second                 -0.037743   0.003571  \n",
       "risehour                     NaN        NaN  \n",
       "riseminute             -0.742329   0.562851  \n",
       "sethour                 1.000000  -0.873471  \n",
       "setminute              -0.873471   1.000000  "
      ]
     },
     "execution_count": 20,
     "metadata": {},
     "output_type": "execute_result"
    }
   ],
   "source": [
    "# extract the correlation between the data features\n",
    "\n",
    "df.corr()"
   ]
  },
  {
   "cell_type": "code",
   "execution_count": 21,
   "metadata": {
    "execution": {
     "iopub.execute_input": "2022-12-30T15:57:23.716747Z",
     "iopub.status.busy": "2022-12-30T15:57:23.71615Z",
     "iopub.status.idle": "2022-12-30T15:57:25.053239Z",
     "shell.execute_reply": "2022-12-30T15:57:25.052269Z",
     "shell.execute_reply.started": "2022-12-30T15:57:23.716713Z"
    },
    "scrolled": true
   },
   "outputs": [
    {
     "data": {
      "image/png": "[encoded data removed]",
      "text/plain": [
       "<Figure size 1440x1440 with 2 Axes>"
      ]
     },
     "metadata": {
      "needs_background": "light"
     },
     "output_type": "display_data"
    }
   ],
   "source": [
    "# plot the correlation matrix using heatmap for clear understanding\n",
    "\n",
    "plt.figure(figsize=(20,20))\n",
    "sns.heatmap(df.corr(), annot = True)\n",
    "plt.show()"
   ]
  },
  {
   "cell_type": "markdown",
   "metadata": {},
   "source": [
    "# <font color = 'yellow'>Feature Selection using SelectKBest Method<font/><a class = 'anchor' id = 'kbest_method'/>"
   ]
  },
  {
   "cell_type": "code",
   "execution_count": 22,
   "metadata": {
    "execution": {
     "iopub.execute_input": "2022-12-30T15:57:25.055259Z",
     "iopub.status.busy": "2022-12-30T15:57:25.054528Z",
     "iopub.status.idle": "2022-12-30T15:57:25.065298Z",
     "shell.execute_reply": "2022-12-30T15:57:25.064052Z",
     "shell.execute_reply.started": "2022-12-30T15:57:25.055223Z"
    }
   },
   "outputs": [
    {
     "data": {
      "text/plain": [
       "0        1.21\n",
       "1        1.21\n",
       "2        1.23\n",
       "3        1.21\n",
       "4        1.17\n",
       "         ... \n",
       "32681    1.22\n",
       "32682    1.17\n",
       "32683    1.20\n",
       "32684    1.23\n",
       "32685    1.20\n",
       "Name: Radiation, Length: 32686, dtype: float64"
      ]
     },
     "execution_count": 22,
     "metadata": {},
     "output_type": "execute_result"
    }
   ],
   "source": [
    "target"
   ]
  },
  {
   "cell_type": "markdown",
   "metadata": {},
   "source": [
    "It works on the target label but instead we are passsing continuous float values to it. So, we need to convert our data to label form and there are two methods as follows:\n",
    "- using LabelEncoder\n",
    "- multiplying the data by 100 and converting it to int which can be treated as labels by the model"
   ]
  },
  {
   "cell_type": "code",
   "execution_count": 23,
   "metadata": {
    "execution": {
     "iopub.execute_input": "2022-12-30T15:57:25.069528Z",
     "iopub.status.busy": "2022-12-30T15:57:25.068669Z",
     "iopub.status.idle": "2022-12-30T15:57:25.076926Z",
     "shell.execute_reply": "2022-12-30T15:57:25.075828Z",
     "shell.execute_reply.started": "2022-12-30T15:57:25.069488Z"
    }
   },
   "outputs": [],
   "source": [
    "# using LabelEncoder\n",
    "\n",
    "label_encoder = LabelEncoder()\n",
    "train_Y = label_encoder.fit_transform(target)"
   ]
  },
  {
   "cell_type": "code",
   "execution_count": 24,
   "metadata": {
    "execution": {
     "iopub.execute_input": "2022-12-30T15:57:25.078433Z",
     "iopub.status.busy": "2022-12-30T15:57:25.078108Z",
     "iopub.status.idle": "2022-12-30T15:57:25.08771Z",
     "shell.execute_reply": "2022-12-30T15:57:25.086442Z",
     "shell.execute_reply.started": "2022-12-30T15:57:25.078403Z"
    }
   },
   "outputs": [
    {
     "data": {
      "text/plain": [
       "array([ 9,  9, 11, ...,  8, 11,  8], dtype=int64)"
      ]
     },
     "execution_count": 24,
     "metadata": {},
     "output_type": "execute_result"
    }
   ],
   "source": [
    "train_Y"
   ]
  },
  {
   "cell_type": "code",
   "execution_count": 25,
   "metadata": {
    "execution": {
     "iopub.execute_input": "2022-12-30T15:57:25.089749Z",
     "iopub.status.busy": "2022-12-30T15:57:25.0894Z",
     "iopub.status.idle": "2022-12-30T15:57:25.11873Z",
     "shell.execute_reply": "2022-12-30T15:57:25.116912Z",
     "shell.execute_reply.started": "2022-12-30T15:57:25.08972Z"
    }
   },
   "outputs": [],
   "source": [
    "# multiplying the data by 100 and converting it to int which can be treated as labels by the model\n",
    "\n",
    "target_cont = df['Radiation'].apply(lambda x : int(x*100))"
   ]
  },
  {
   "cell_type": "code",
   "execution_count": 26,
   "metadata": {
    "execution": {
     "iopub.execute_input": "2022-12-30T15:57:25.121012Z",
     "iopub.status.busy": "2022-12-30T15:57:25.1206Z",
     "iopub.status.idle": "2022-12-30T15:57:25.13362Z",
     "shell.execute_reply": "2022-12-30T15:57:25.131915Z",
     "shell.execute_reply.started": "2022-12-30T15:57:25.120975Z"
    }
   },
   "outputs": [
    {
     "data": {
      "text/plain": [
       "0        121\n",
       "1        121\n",
       "2        123\n",
       "3        121\n",
       "4        117\n",
       "        ... \n",
       "32681    122\n",
       "32682    117\n",
       "32683    120\n",
       "32684    123\n",
       "32685    120\n",
       "Name: Radiation, Length: 32686, dtype: int64"
      ]
     },
     "execution_count": 26,
     "metadata": {},
     "output_type": "execute_result"
    }
   ],
   "source": [
    "target_cont"
   ]
  },
  {
   "cell_type": "code",
   "execution_count": 27,
   "metadata": {
    "execution": {
     "iopub.execute_input": "2022-12-30T15:57:25.136528Z",
     "iopub.status.busy": "2022-12-30T15:57:25.135989Z",
     "iopub.status.idle": "2022-12-30T15:57:25.158225Z",
     "shell.execute_reply": "2022-12-30T15:57:25.157193Z",
     "shell.execute_reply.started": "2022-12-30T15:57:25.136486Z"
    }
   },
   "outputs": [],
   "source": [
    "# scaling input features\n",
    "\n",
    "scaled_input_features = MinMaxScaler().fit_transform(input_features)"
   ]
  },
  {
   "cell_type": "code",
   "execution_count": 28,
   "metadata": {
    "execution": {
     "iopub.execute_input": "2022-12-30T15:57:25.160836Z",
     "iopub.status.busy": "2022-12-30T15:57:25.159426Z",
     "iopub.status.idle": "2022-12-30T15:57:39.261064Z",
     "shell.execute_reply": "2022-12-30T15:57:39.259937Z",
     "shell.execute_reply.started": "2022-12-30T15:57:25.160795Z"
    }
   },
   "outputs": [],
   "source": [
    "# performing SelectKBest() method\n",
    "\n",
    "bestfeatures = SelectKBest(score_func = chi2, k = 10)\n",
    "fit = bestfeatures.fit(scaled_input_features, target_cont)"
   ]
  },
  {
   "cell_type": "code",
   "execution_count": 29,
   "metadata": {
    "execution": {
     "iopub.execute_input": "2022-12-30T15:57:39.263283Z",
     "iopub.status.busy": "2022-12-30T15:57:39.262734Z",
     "iopub.status.idle": "2022-12-30T15:57:39.270552Z",
     "shell.execute_reply": "2022-12-30T15:57:39.269583Z",
     "shell.execute_reply.started": "2022-12-30T15:57:39.263236Z"
    }
   },
   "outputs": [],
   "source": [
    "scores = pd.DataFrame(fit.scores_)\n",
    "column = pd.DataFrame(input_features.columns)"
   ]
  },
  {
   "cell_type": "code",
   "execution_count": 30,
   "metadata": {
    "execution": {
     "iopub.execute_input": "2022-12-30T15:57:39.273005Z",
     "iopub.status.busy": "2022-12-30T15:57:39.271996Z",
     "iopub.status.idle": "2022-12-30T15:57:39.282017Z",
     "shell.execute_reply": "2022-12-30T15:57:39.28066Z",
     "shell.execute_reply.started": "2022-12-30T15:57:39.272966Z"
    }
   },
   "outputs": [],
   "source": [
    "# contatinating data_features with the scores\n",
    "featureScores = pd.concat([column, scores], axis=1)\n",
    "\n",
    "#naming the dataframe columns\n",
    "featureScores.columns = ['Features', 'feature_imp'] "
   ]
  },
  {
   "cell_type": "code",
   "execution_count": 31,
   "metadata": {
    "execution": {
     "iopub.execute_input": "2022-12-30T15:57:39.285196Z",
     "iopub.status.busy": "2022-12-30T15:57:39.284243Z",
     "iopub.status.idle": "2022-12-30T15:57:39.301164Z",
     "shell.execute_reply": "2022-12-30T15:57:39.299663Z",
     "shell.execute_reply.started": "2022-12-30T15:57:39.285144Z"
    }
   },
   "outputs": [
    {
     "data": {
      "text/html": [
       "<div>\n",
       "<style scoped>\n",
       "    .dataframe tbody tr th:only-of-type {\n",
       "        vertical-align: middle;\n",
       "    }\n",
       "\n",
       "    .dataframe tbody tr th {\n",
       "        vertical-align: top;\n",
       "    }\n",
       "\n",
       "    .dataframe thead th {\n",
       "        text-align: right;\n",
       "    }\n",
       "</style>\n",
       "<table border=\"1\" class=\"dataframe\">\n",
       "  <thead>\n",
       "    <tr style=\"text-align: right;\">\n",
       "      <th></th>\n",
       "      <th>Features</th>\n",
       "      <th>feature_imp</th>\n",
       "    </tr>\n",
       "  </thead>\n",
       "  <tbody>\n",
       "    <tr>\n",
       "      <th>12</th>\n",
       "      <td>sethour</td>\n",
       "      <td>12207.531454</td>\n",
       "    </tr>\n",
       "    <tr>\n",
       "      <th>5</th>\n",
       "      <td>Month</td>\n",
       "      <td>4684.579610</td>\n",
       "    </tr>\n",
       "    <tr>\n",
       "      <th>11</th>\n",
       "      <td>riseminute</td>\n",
       "      <td>4015.062771</td>\n",
       "    </tr>\n",
       "    <tr>\n",
       "      <th>3</th>\n",
       "      <td>WindDirection(Degrees)</td>\n",
       "      <td>3271.827277</td>\n",
       "    </tr>\n",
       "    <tr>\n",
       "      <th>6</th>\n",
       "      <td>Day</td>\n",
       "      <td>2841.926850</td>\n",
       "    </tr>\n",
       "    <tr>\n",
       "      <th>8</th>\n",
       "      <td>Minute</td>\n",
       "      <td>2702.449333</td>\n",
       "    </tr>\n",
       "    <tr>\n",
       "      <th>9</th>\n",
       "      <td>Second</td>\n",
       "      <td>2288.673032</td>\n",
       "    </tr>\n",
       "    <tr>\n",
       "      <th>13</th>\n",
       "      <td>setminute</td>\n",
       "      <td>1863.712087</td>\n",
       "    </tr>\n",
       "    <tr>\n",
       "      <th>0</th>\n",
       "      <td>Temperature</td>\n",
       "      <td>1651.685632</td>\n",
       "    </tr>\n",
       "    <tr>\n",
       "      <th>2</th>\n",
       "      <td>Humidity</td>\n",
       "      <td>1588.087433</td>\n",
       "    </tr>\n",
       "    <tr>\n",
       "      <th>4</th>\n",
       "      <td>Speed</td>\n",
       "      <td>765.859779</td>\n",
       "    </tr>\n",
       "    <tr>\n",
       "      <th>7</th>\n",
       "      <td>Hour</td>\n",
       "      <td>691.185393</td>\n",
       "    </tr>\n",
       "    <tr>\n",
       "      <th>1</th>\n",
       "      <td>Pressure</td>\n",
       "      <td>523.791060</td>\n",
       "    </tr>\n",
       "    <tr>\n",
       "      <th>10</th>\n",
       "      <td>risehour</td>\n",
       "      <td>NaN</td>\n",
       "    </tr>\n",
       "  </tbody>\n",
       "</table>\n",
       "</div>"
      ],
      "text/plain": [
       "                  Features   feature_imp\n",
       "12                 sethour  12207.531454\n",
       "5                    Month   4684.579610\n",
       "11              riseminute   4015.062771\n",
       "3   WindDirection(Degrees)   3271.827277\n",
       "6                      Day   2841.926850\n",
       "8                   Minute   2702.449333\n",
       "9                   Second   2288.673032\n",
       "13               setminute   1863.712087\n",
       "0              Temperature   1651.685632\n",
       "2                 Humidity   1588.087433\n",
       "4                    Speed    765.859779\n",
       "7                     Hour    691.185393\n",
       "1                 Pressure    523.791060\n",
       "10                risehour           NaN"
      ]
     },
     "execution_count": 31,
     "metadata": {},
     "output_type": "execute_result"
    }
   ],
   "source": [
    "# best features\n",
    "\n",
    "featureScores.sort_values(by = 'feature_imp', ascending=False, inplace=True)\n",
    "featureScores"
   ]
  },
  {
   "cell_type": "code",
   "execution_count": 32,
   "metadata": {
    "execution": {
     "iopub.execute_input": "2022-12-30T15:57:39.303104Z",
     "iopub.status.busy": "2022-12-30T15:57:39.302543Z",
     "iopub.status.idle": "2022-12-30T15:57:39.583094Z",
     "shell.execute_reply": "2022-12-30T15:57:39.582153Z",
     "shell.execute_reply.started": "2022-12-30T15:57:39.303056Z"
    }
   },
   "outputs": [
    {
     "data": {
      "image/png": "[encoded data removed]",
      "text/plain": [
       "<Figure size 864x288 with 1 Axes>"
      ]
     },
     "metadata": {
      "needs_background": "light"
     },
     "output_type": "display_data"
    }
   ],
   "source": [
    "# visualise the feature importance\n",
    "\n",
    "plt.figure(figsize = (12, 4))\n",
    "plt.bar(featureScores.Features, featureScores.feature_imp)\n",
    "plt.xticks(rotation = 50)\n",
    "plt.xlabel(\"Features\")\n",
    "plt.ylabel(\"Importance\")\n",
    "plt.title(\"Feature Importance using SelectKBest method\")\n",
    "plt.show()"
   ]
  },
  {
   "cell_type": "markdown",
   "metadata": {},
   "source": [
    "# <font color = 'green'>Feature Selection using Extra Tree Classifier<font/><a class = 'anchor' id = 'extra_tree'/>"
   ]
  },
  {
   "cell_type": "markdown",
   "metadata": {},
   "source": [
    "# <font color = 'red'>Feature Engineering with BoxCox, Log, Min-Max and Standard transformation<font/><a class = 'anchor' id = 'feature_engg'/>"
   ]
  },
  {
   "cell_type": "code",
   "execution_count": 38,
   "metadata": {
    "execution": {
     "iopub.execute_input": "2022-12-30T15:58:19.779412Z",
     "iopub.status.busy": "2022-12-30T15:58:19.779046Z",
     "iopub.status.idle": "2022-12-30T15:58:26.093312Z",
     "shell.execute_reply": "2022-12-30T15:58:26.091964Z",
     "shell.execute_reply.started": "2022-12-30T15:58:19.779381Z"
    },
    "scrolled": true
   },
   "outputs": [
    {
     "data": {
      "image/png": "[encoded data removed]",
      "text/plain": [
       "<Figure size 864x576 with 5 Axes>"
      ]
     },
     "metadata": {
      "needs_background": "light"
     },
     "output_type": "display_data"
    },
    {
     "data": {
      "image/png": "[encoded data removed]",
      "text/plain": [
       "<Figure size 864x576 with 5 Axes>"
      ]
     },
     "metadata": {
      "needs_background": "light"
     },
     "output_type": "display_data"
    },
    {
     "data": {
      "image/png": "[encoded data removed]",
      "text/plain": [
       "<Figure size 864x576 with 5 Axes>"
      ]
     },
     "metadata": {
      "needs_background": "light"
     },
     "output_type": "display_data"
    },
    {
     "data": {
      "image/png": "[encoded data removed]",
      "text/plain": [
       "<Figure size 864x576 with 5 Axes>"
      ]
     },
     "metadata": {
      "needs_background": "light"
     },
     "output_type": "display_data"
    },
    {
     "data": {
      "image/png": "[encoded data removed]",
      "text/plain": [
       "<Figure size 864x576 with 5 Axes>"
      ]
     },
     "metadata": {
      "needs_background": "light"
     },
     "output_type": "display_data"
    }
   ],
   "source": [
    "# Looking for transformation\n",
    "\n",
    "features_to_transform = ['Temperature', 'Pressure', 'Humidity', 'Speed', 'WindDirection(Degrees)']\n",
    "\n",
    "for i in features_to_transform:\n",
    "    \n",
    "    fig, (ax1, ax2, ax3, ax4, ax5) = plt.subplots(5, 1, figsize=(12, 8))\n",
    "    \n",
    "    pd.DataFrame(input_features[i]).hist(ax = ax1, bins = 50)\n",
    "    pd.DataFrame((input_features[i]+1).transform(np.log)).hist(ax = ax2, bins = 50)\n",
    "    pd.DataFrame(stats.boxcox(input_features[i]+1)[0]).hist(ax = ax3, bins = 50)    \n",
    "    pd.DataFrame(StandardScaler().fit_transform(np.array(input_features[i]).reshape(-1, 1))).hist(ax = ax4, bins = 50)\n",
    "    pd.DataFrame(MinMaxScaler().fit_transform(np.array(input_features[i]).reshape(-1, 1))).hist(ax = ax5, bins = 50)\n",
    "    \n",
    "    ax1.set_ylabel('Normal')\n",
    "    ax2.set_ylabel('Log')\n",
    "    ax3.set_ylabel('Box Cox')\n",
    "    ax4.set_ylabel('Standard')\n",
    "    ax5.set_ylabel('MinMax')"
   ]
  },
  {
   "cell_type": "code",
   "execution_count": 39,
   "metadata": {
    "execution": {
     "iopub.execute_input": "2022-12-30T15:58:26.095552Z",
     "iopub.status.busy": "2022-12-30T15:58:26.094914Z",
     "iopub.status.idle": "2022-12-30T15:58:26.112723Z",
     "shell.execute_reply": "2022-12-30T15:58:26.11147Z",
     "shell.execute_reply.started": "2022-12-30T15:58:26.095515Z"
    }
   },
   "outputs": [
    {
     "data": {
      "text/html": [
       "<div>\n",
       "<style scoped>\n",
       "    .dataframe tbody tr th:only-of-type {\n",
       "        vertical-align: middle;\n",
       "    }\n",
       "\n",
       "    .dataframe tbody tr th {\n",
       "        vertical-align: top;\n",
       "    }\n",
       "\n",
       "    .dataframe thead th {\n",
       "        text-align: right;\n",
       "    }\n",
       "</style>\n",
       "<table border=\"1\" class=\"dataframe\">\n",
       "  <thead>\n",
       "    <tr style=\"text-align: right;\">\n",
       "      <th></th>\n",
       "      <th>Temperature</th>\n",
       "      <th>Pressure</th>\n",
       "      <th>Humidity</th>\n",
       "      <th>WindDirection(Degrees)</th>\n",
       "      <th>Speed</th>\n",
       "      <th>Month</th>\n",
       "      <th>Day</th>\n",
       "      <th>Hour</th>\n",
       "      <th>Minute</th>\n",
       "      <th>Second</th>\n",
       "      <th>risehour</th>\n",
       "      <th>riseminute</th>\n",
       "      <th>sethour</th>\n",
       "      <th>setminute</th>\n",
       "    </tr>\n",
       "  </thead>\n",
       "  <tbody>\n",
       "    <tr>\n",
       "      <th>0</th>\n",
       "      <td>48</td>\n",
       "      <td>30.46</td>\n",
       "      <td>59</td>\n",
       "      <td>177.39</td>\n",
       "      <td>5.62</td>\n",
       "      <td>9</td>\n",
       "      <td>29</td>\n",
       "      <td>23</td>\n",
       "      <td>55</td>\n",
       "      <td>26</td>\n",
       "      <td>6</td>\n",
       "      <td>13</td>\n",
       "      <td>18</td>\n",
       "      <td>13</td>\n",
       "    </tr>\n",
       "    <tr>\n",
       "      <th>1</th>\n",
       "      <td>48</td>\n",
       "      <td>30.46</td>\n",
       "      <td>58</td>\n",
       "      <td>176.78</td>\n",
       "      <td>3.37</td>\n",
       "      <td>9</td>\n",
       "      <td>29</td>\n",
       "      <td>23</td>\n",
       "      <td>50</td>\n",
       "      <td>23</td>\n",
       "      <td>6</td>\n",
       "      <td>13</td>\n",
       "      <td>18</td>\n",
       "      <td>13</td>\n",
       "    </tr>\n",
       "    <tr>\n",
       "      <th>2</th>\n",
       "      <td>48</td>\n",
       "      <td>30.46</td>\n",
       "      <td>57</td>\n",
       "      <td>158.75</td>\n",
       "      <td>3.37</td>\n",
       "      <td>9</td>\n",
       "      <td>29</td>\n",
       "      <td>23</td>\n",
       "      <td>45</td>\n",
       "      <td>26</td>\n",
       "      <td>6</td>\n",
       "      <td>13</td>\n",
       "      <td>18</td>\n",
       "      <td>13</td>\n",
       "    </tr>\n",
       "    <tr>\n",
       "      <th>3</th>\n",
       "      <td>48</td>\n",
       "      <td>30.46</td>\n",
       "      <td>60</td>\n",
       "      <td>137.71</td>\n",
       "      <td>3.37</td>\n",
       "      <td>9</td>\n",
       "      <td>29</td>\n",
       "      <td>23</td>\n",
       "      <td>40</td>\n",
       "      <td>21</td>\n",
       "      <td>6</td>\n",
       "      <td>13</td>\n",
       "      <td>18</td>\n",
       "      <td>13</td>\n",
       "    </tr>\n",
       "    <tr>\n",
       "      <th>4</th>\n",
       "      <td>48</td>\n",
       "      <td>30.46</td>\n",
       "      <td>62</td>\n",
       "      <td>104.95</td>\n",
       "      <td>5.62</td>\n",
       "      <td>9</td>\n",
       "      <td>29</td>\n",
       "      <td>23</td>\n",
       "      <td>35</td>\n",
       "      <td>24</td>\n",
       "      <td>6</td>\n",
       "      <td>13</td>\n",
       "      <td>18</td>\n",
       "      <td>13</td>\n",
       "    </tr>\n",
       "  </tbody>\n",
       "</table>\n",
       "</div>"
      ],
      "text/plain": [
       "   Temperature  Pressure  Humidity  WindDirection(Degrees)  Speed  Month  Day  \\\n",
       "0           48     30.46        59                  177.39   5.62      9   29   \n",
       "1           48     30.46        58                  176.78   3.37      9   29   \n",
       "2           48     30.46        57                  158.75   3.37      9   29   \n",
       "3           48     30.46        60                  137.71   3.37      9   29   \n",
       "4           48     30.46        62                  104.95   5.62      9   29   \n",
       "\n",
       "   Hour  Minute  Second  risehour  riseminute  sethour  setminute  \n",
       "0    23      55      26         6          13       18         13  \n",
       "1    23      50      23         6          13       18         13  \n",
       "2    23      45      26         6          13       18         13  \n",
       "3    23      40      21         6          13       18         13  \n",
       "4    23      35      24         6          13       18         13  "
      ]
     },
     "execution_count": 39,
     "metadata": {},
     "output_type": "execute_result"
    }
   ],
   "source": [
    "input_features.head()"
   ]
  },
  {
   "cell_type": "code",
   "execution_count": 40,
   "metadata": {
    "execution": {
     "iopub.execute_input": "2022-12-30T15:58:26.11471Z",
     "iopub.status.busy": "2022-12-30T15:58:26.11415Z",
     "iopub.status.idle": "2022-12-30T15:58:26.218616Z",
     "shell.execute_reply": "2022-12-30T15:58:26.217509Z",
     "shell.execute_reply.started": "2022-12-30T15:58:26.114675Z"
    }
   },
   "outputs": [],
   "source": [
    "# set the transformations required\n",
    "\n",
    "transform = {'Temperature' : (input_features['Temperature']+1).transform(np.log), \n",
    "             'Pressure': stats.boxcox(input_features['Pressure']+1)[0], \n",
    "             'Humidity' : stats.boxcox(input_features['Humidity']+1)[0], \n",
    "             'Speed' : (input_features['Speed']+1).transform(np.log), \n",
    "             'WindDirection(Degrees)' : MinMaxScaler().fit_transform(\n",
    "                 np.array(input_features['WindDirection(Degrees)']).reshape(-1, 1))}\n",
    "\n",
    "for i in transform:\n",
    "    input_features[i] = transform[i]"
   ]
  },
  {
   "cell_type": "code",
   "execution_count": 41,
   "metadata": {
    "execution": {
     "iopub.execute_input": "2022-12-30T15:58:26.220727Z",
     "iopub.status.busy": "2022-12-30T15:58:26.220259Z",
     "iopub.status.idle": "2022-12-30T15:58:26.242658Z",
     "shell.execute_reply": "2022-12-30T15:58:26.241349Z",
     "shell.execute_reply.started": "2022-12-30T15:58:26.220673Z"
    }
   },
   "outputs": [
    {
     "data": {
      "text/html": [
       "<div>\n",
       "<style scoped>\n",
       "    .dataframe tbody tr th:only-of-type {\n",
       "        vertical-align: middle;\n",
       "    }\n",
       "\n",
       "    .dataframe tbody tr th {\n",
       "        vertical-align: top;\n",
       "    }\n",
       "\n",
       "    .dataframe thead th {\n",
       "        text-align: right;\n",
       "    }\n",
       "</style>\n",
       "<table border=\"1\" class=\"dataframe\">\n",
       "  <thead>\n",
       "    <tr style=\"text-align: right;\">\n",
       "      <th></th>\n",
       "      <th>Temperature</th>\n",
       "      <th>Pressure</th>\n",
       "      <th>Humidity</th>\n",
       "      <th>WindDirection(Degrees)</th>\n",
       "      <th>Speed</th>\n",
       "      <th>Month</th>\n",
       "      <th>Day</th>\n",
       "      <th>Hour</th>\n",
       "      <th>Minute</th>\n",
       "      <th>Second</th>\n",
       "      <th>risehour</th>\n",
       "      <th>riseminute</th>\n",
       "      <th>sethour</th>\n",
       "      <th>setminute</th>\n",
       "    </tr>\n",
       "  </thead>\n",
       "  <tbody>\n",
       "    <tr>\n",
       "      <th>0</th>\n",
       "      <td>3.89182</td>\n",
       "      <td>5.044903e+152</td>\n",
       "      <td>1139.358665</td>\n",
       "      <td>0.492692</td>\n",
       "      <td>1.890095</td>\n",
       "      <td>9</td>\n",
       "      <td>29</td>\n",
       "      <td>23</td>\n",
       "      <td>55</td>\n",
       "      <td>26</td>\n",
       "      <td>6</td>\n",
       "      <td>13</td>\n",
       "      <td>18</td>\n",
       "      <td>13</td>\n",
       "    </tr>\n",
       "    <tr>\n",
       "      <th>1</th>\n",
       "      <td>3.89182</td>\n",
       "      <td>5.044903e+152</td>\n",
       "      <td>1104.046980</td>\n",
       "      <td>0.490996</td>\n",
       "      <td>1.474763</td>\n",
       "      <td>9</td>\n",
       "      <td>29</td>\n",
       "      <td>23</td>\n",
       "      <td>50</td>\n",
       "      <td>23</td>\n",
       "      <td>6</td>\n",
       "      <td>13</td>\n",
       "      <td>18</td>\n",
       "      <td>13</td>\n",
       "    </tr>\n",
       "    <tr>\n",
       "      <th>2</th>\n",
       "      <td>3.89182</td>\n",
       "      <td>5.044903e+152</td>\n",
       "      <td>1069.253545</td>\n",
       "      <td>0.440894</td>\n",
       "      <td>1.474763</td>\n",
       "      <td>9</td>\n",
       "      <td>29</td>\n",
       "      <td>23</td>\n",
       "      <td>45</td>\n",
       "      <td>26</td>\n",
       "      <td>6</td>\n",
       "      <td>13</td>\n",
       "      <td>18</td>\n",
       "      <td>13</td>\n",
       "    </tr>\n",
       "    <tr>\n",
       "      <th>3</th>\n",
       "      <td>3.89182</td>\n",
       "      <td>5.044903e+152</td>\n",
       "      <td>1175.187489</td>\n",
       "      <td>0.382426</td>\n",
       "      <td>1.474763</td>\n",
       "      <td>9</td>\n",
       "      <td>29</td>\n",
       "      <td>23</td>\n",
       "      <td>40</td>\n",
       "      <td>21</td>\n",
       "      <td>6</td>\n",
       "      <td>13</td>\n",
       "      <td>18</td>\n",
       "      <td>13</td>\n",
       "    </tr>\n",
       "    <tr>\n",
       "      <th>4</th>\n",
       "      <td>3.89182</td>\n",
       "      <td>5.044903e+152</td>\n",
       "      <td>1248.392213</td>\n",
       "      <td>0.291391</td>\n",
       "      <td>1.890095</td>\n",
       "      <td>9</td>\n",
       "      <td>29</td>\n",
       "      <td>23</td>\n",
       "      <td>35</td>\n",
       "      <td>24</td>\n",
       "      <td>6</td>\n",
       "      <td>13</td>\n",
       "      <td>18</td>\n",
       "      <td>13</td>\n",
       "    </tr>\n",
       "  </tbody>\n",
       "</table>\n",
       "</div>"
      ],
      "text/plain": [
       "   Temperature       Pressure     Humidity  WindDirection(Degrees)     Speed  \\\n",
       "0      3.89182  5.044903e+152  1139.358665                0.492692  1.890095   \n",
       "1      3.89182  5.044903e+152  1104.046980                0.490996  1.474763   \n",
       "2      3.89182  5.044903e+152  1069.253545                0.440894  1.474763   \n",
       "3      3.89182  5.044903e+152  1175.187489                0.382426  1.474763   \n",
       "4      3.89182  5.044903e+152  1248.392213                0.291391  1.890095   \n",
       "\n",
       "   Month  Day  Hour  Minute  Second  risehour  riseminute  sethour  setminute  \n",
       "0      9   29    23      55      26         6          13       18         13  \n",
       "1      9   29    23      50      23         6          13       18         13  \n",
       "2      9   29    23      45      26         6          13       18         13  \n",
       "3      9   29    23      40      21         6          13       18         13  \n",
       "4      9   29    23      35      24         6          13       18         13  "
      ]
     },
     "execution_count": 41,
     "metadata": {},
     "output_type": "execute_result"
    }
   ],
   "source": [
    "input_features.head()"
   ]
  },
  {
   "cell_type": "markdown",
   "metadata": {},
   "source": [
    "# <font color = 'pink'>Preparing data - Standardisation and Splitting<font/><a class = 'anchor' id = 'data_prep'/>"
   ]
  },
  {
   "cell_type": "code",
   "execution_count": 42,
   "metadata": {
    "execution": {
     "iopub.execute_input": "2022-12-30T15:58:26.24988Z",
     "iopub.status.busy": "2022-12-30T15:58:26.249453Z",
     "iopub.status.idle": "2022-12-30T15:58:26.266218Z",
     "shell.execute_reply": "2022-12-30T15:58:26.265284Z",
     "shell.execute_reply.started": "2022-12-30T15:58:26.249835Z"
    }
   },
   "outputs": [],
   "source": [
    "xtrain, xtest, ytrain, ytest = train_test_split(input_features, target, test_size=0.2, random_state=1)"
   ]
  },
  {
   "cell_type": "code",
   "execution_count": 43,
   "metadata": {
    "execution": {
     "iopub.execute_input": "2022-12-30T15:58:26.268304Z",
     "iopub.status.busy": "2022-12-30T15:58:26.267533Z",
     "iopub.status.idle": "2022-12-30T15:58:26.275456Z",
     "shell.execute_reply": "2022-12-30T15:58:26.274472Z",
     "shell.execute_reply.started": "2022-12-30T15:58:26.268265Z"
    }
   },
   "outputs": [],
   "source": [
    "scaler = StandardScaler()"
   ]
  },
  {
   "cell_type": "code",
   "execution_count": 44,
   "metadata": {
    "execution": {
     "iopub.execute_input": "2022-12-30T15:58:26.278498Z",
     "iopub.status.busy": "2022-12-30T15:58:26.277511Z",
     "iopub.status.idle": "2022-12-30T15:58:26.302084Z",
     "shell.execute_reply": "2022-12-30T15:58:26.300921Z",
     "shell.execute_reply.started": "2022-12-30T15:58:26.278449Z"
    }
   },
   "outputs": [],
   "source": [
    "xtrain = scaler.fit_transform(xtrain)\n",
    "xtest = scaler.transform(xtest)"
   ]
  },
  {
   "cell_type": "code",
   "execution_count": 45,
   "metadata": {
    "execution": {
     "iopub.execute_input": "2022-12-30T15:58:26.304035Z",
     "iopub.status.busy": "2022-12-30T15:58:26.303592Z",
     "iopub.status.idle": "2022-12-30T15:58:26.31244Z",
     "shell.execute_reply": "2022-12-30T15:58:26.311103Z",
     "shell.execute_reply.started": "2022-12-30T15:58:26.303992Z"
    }
   },
   "outputs": [
    {
     "data": {
      "text/plain": [
       "((26148, 14), (6538, 14))"
      ]
     },
     "execution_count": 45,
     "metadata": {},
     "output_type": "execute_result"
    }
   ],
   "source": [
    "xtrain.shape, xtest.shape"
   ]
  },
  {
   "cell_type": "markdown",
   "metadata": {},
   "source": [
    "# <font color = 'yellow'>Prediction with XGBoost<font/><a class = 'anchor' id = 'xgboost'/>"
   ]
  },
  {
   "cell_type": "code",
   "execution_count": 46,
   "metadata": {
    "execution": {
     "iopub.execute_input": "2022-12-30T15:58:26.314682Z",
     "iopub.status.busy": "2022-12-30T15:58:26.31434Z",
     "iopub.status.idle": "2022-12-30T15:58:26.322161Z",
     "shell.execute_reply": "2022-12-30T15:58:26.320791Z",
     "shell.execute_reply.started": "2022-12-30T15:58:26.314653Z"
    }
   },
   "outputs": [],
   "source": [
    "params = {\n",
    "    'learning_rate': 0.1,\n",
    "    'max_depth': 8}"
   ]
  },
  {
   "cell_type": "code",
   "execution_count": 47,
   "metadata": {
    "execution": {
     "iopub.execute_input": "2022-12-30T15:58:26.324018Z",
     "iopub.status.busy": "2022-12-30T15:58:26.323603Z",
     "iopub.status.idle": "2022-12-30T15:58:26.333892Z",
     "shell.execute_reply": "2022-12-30T15:58:26.33253Z",
     "shell.execute_reply.started": "2022-12-30T15:58:26.323985Z"
    }
   },
   "outputs": [],
   "source": [
    "model = XGBRegressor(**params)"
   ]
  },
  {
   "cell_type": "code",
   "execution_count": 48,
   "metadata": {
    "execution": {
     "iopub.execute_input": "2022-12-30T15:58:26.335558Z",
     "iopub.status.busy": "2022-12-30T15:58:26.335225Z",
     "iopub.status.idle": "2022-12-30T15:58:29.040246Z",
     "shell.execute_reply": "2022-12-30T15:58:29.039172Z",
     "shell.execute_reply.started": "2022-12-30T15:58:26.33553Z"
    }
   },
   "outputs": [
    {
     "data": {
      "text/html": [
       "<style>#sk-container-id-1 {color: black;background-color: white;}#sk-container-id-1 pre{padding: 0;}#sk-container-id-1 div.sk-toggleable {background-color: white;}#sk-container-id-1 label.sk-toggleable__label {cursor: pointer;display: block;width: 100%;margin-bottom: 0;padding: 0.3em;box-sizing: border-box;text-align: center;}#sk-container-id-1 label.sk-toggleable__label-arrow:before {content: \"▸\";float: left;margin-right: 0.25em;color: #696969;}#sk-container-id-1 label.sk-toggleable__label-arrow:hover:before {color: black;}#sk-container-id-1 div.sk-estimator:hover label.sk-toggleable__label-arrow:before {color: black;}#sk-container-id-1 div.sk-toggleable__content {max-height: 0;max-width: 0;overflow: hidden;text-align: left;background-color: #f0f8ff;}#sk-container-id-1 div.sk-toggleable__content pre {margin: 0.2em;color: black;border-radius: 0.25em;background-color: #f0f8ff;}#sk-container-id-1 input.sk-toggleable__control:checked~div.sk-toggleable__content {max-height: 200px;max-width: 100%;overflow: auto;}#sk-container-id-1 input.sk-toggleable__control:checked~label.sk-toggleable__label-arrow:before {content: \"▾\";}#sk-container-id-1 div.sk-estimator input.sk-toggleable__control:checked~label.sk-toggleable__label {background-color: #d4ebff;}#sk-container-id-1 div.sk-label input.sk-toggleable__control:checked~label.sk-toggleable__label {background-color: #d4ebff;}#sk-container-id-1 input.sk-hidden--visually {border: 0;clip: rect(1px 1px 1px 1px);clip: rect(1px, 1px, 1px, 1px);height: 1px;margin: -1px;overflow: hidden;padding: 0;position: absolute;width: 1px;}#sk-container-id-1 div.sk-estimator {font-family: monospace;background-color: #f0f8ff;border: 1px dotted black;border-radius: 0.25em;box-sizing: border-box;margin-bottom: 0.5em;}#sk-container-id-1 div.sk-estimator:hover {background-color: #d4ebff;}#sk-container-id-1 div.sk-parallel-item::after {content: \"\";width: 100%;border-bottom: 1px solid gray;flex-grow: 1;}#sk-container-id-1 div.sk-label:hover label.sk-toggleable__label {background-color: #d4ebff;}#sk-container-id-1 div.sk-serial::before {content: \"\";position: absolute;border-left: 1px solid gray;box-sizing: border-box;top: 0;bottom: 0;left: 50%;z-index: 0;}#sk-container-id-1 div.sk-serial {display: flex;flex-direction: column;align-items: center;background-color: white;padding-right: 0.2em;padding-left: 0.2em;position: relative;}#sk-container-id-1 div.sk-item {position: relative;z-index: 1;}#sk-container-id-1 div.sk-parallel {display: flex;align-items: stretch;justify-content: center;background-color: white;position: relative;}#sk-container-id-1 div.sk-item::before, #sk-container-id-1 div.sk-parallel-item::before {content: \"\";position: absolute;border-left: 1px solid gray;box-sizing: border-box;top: 0;bottom: 0;left: 50%;z-index: -1;}#sk-container-id-1 div.sk-parallel-item {display: flex;flex-direction: column;z-index: 1;position: relative;background-color: white;}#sk-container-id-1 div.sk-parallel-item:first-child::after {align-self: flex-end;width: 50%;}#sk-container-id-1 div.sk-parallel-item:last-child::after {align-self: flex-start;width: 50%;}#sk-container-id-1 div.sk-parallel-item:only-child::after {width: 0;}#sk-container-id-1 div.sk-dashed-wrapped {border: 1px dashed gray;margin: 0 0.4em 0.5em 0.4em;box-sizing: border-box;padding-bottom: 0.4em;background-color: white;}#sk-container-id-1 div.sk-label label {font-family: monospace;font-weight: bold;display: inline-block;line-height: 1.2em;}#sk-container-id-1 div.sk-label-container {text-align: center;}#sk-container-id-1 div.sk-container {/* jupyter's `normalize.less` sets `[hidden] { display: none; }` but bootstrap.min.css set `[hidden] { display: none !important; }` so we also need the `!important` here to be able to override the default hidden behavior on the sphinx rendered scikit-learn.org. See: https://github.com/scikit-learn/scikit-learn/issues/21755 */display: inline-block !important;position: relative;}#sk-container-id-1 div.sk-text-repr-fallback {display: none;}</style><div id=\"sk-container-id-1\" class=\"sk-top-container\"><div class=\"sk-text-repr-fallback\"><pre>XGBRegressor(base_score=0.5, booster=&#x27;gbtree&#x27;, callbacks=None,\n",
       "             colsample_bylevel=1, colsample_bynode=1, colsample_bytree=1,\n",
       "             early_stopping_rounds=None, enable_categorical=False,\n",
       "             eval_metric=None, gamma=0, gpu_id=-1, grow_policy=&#x27;depthwise&#x27;,\n",
       "             importance_type=None, interaction_constraints=&#x27;&#x27;,\n",
       "             learning_rate=0.1, max_bin=256, max_cat_to_onehot=4,\n",
       "             max_delta_step=0, max_depth=8, max_leaves=0, min_child_weight=1,\n",
       "             missing=nan, monotone_constraints=&#x27;()&#x27;, n_estimators=100, n_jobs=0,\n",
       "             num_parallel_tree=1, predictor=&#x27;auto&#x27;, random_state=0, reg_alpha=0,\n",
       "             reg_lambda=1, ...)</pre><b>In a Jupyter environment, please rerun this cell to show the HTML representation or trust the notebook. <br />On GitHub, the HTML representation is unable to render, please try loading this page with nbviewer.org.</b></div><div class=\"sk-container\" hidden><div class=\"sk-item\"><div class=\"sk-estimator sk-toggleable\"><input class=\"sk-toggleable__control sk-hidden--visually\" id=\"sk-estimator-id-1\" type=\"checkbox\" checked><label for=\"sk-estimator-id-1\" class=\"sk-toggleable__label sk-toggleable__label-arrow\">XGBRegressor</label><div class=\"sk-toggleable__content\"><pre>XGBRegressor(base_score=0.5, booster=&#x27;gbtree&#x27;, callbacks=None,\n",
       "             colsample_bylevel=1, colsample_bynode=1, colsample_bytree=1,\n",
       "             early_stopping_rounds=None, enable_categorical=False,\n",
       "             eval_metric=None, gamma=0, gpu_id=-1, grow_policy=&#x27;depthwise&#x27;,\n",
       "             importance_type=None, interaction_constraints=&#x27;&#x27;,\n",
       "             learning_rate=0.1, max_bin=256, max_cat_to_onehot=4,\n",
       "             max_delta_step=0, max_depth=8, max_leaves=0, min_child_weight=1,\n",
       "             missing=nan, monotone_constraints=&#x27;()&#x27;, n_estimators=100, n_jobs=0,\n",
       "             num_parallel_tree=1, predictor=&#x27;auto&#x27;, random_state=0, reg_alpha=0,\n",
       "             reg_lambda=1, ...)</pre></div></div></div></div></div>"
      ],
      "text/plain": [
       "XGBRegressor(base_score=0.5, booster='gbtree', callbacks=None,\n",
       "             colsample_bylevel=1, colsample_bynode=1, colsample_bytree=1,\n",
       "             early_stopping_rounds=None, enable_categorical=False,\n",
       "             eval_metric=None, gamma=0, gpu_id=-1, grow_policy='depthwise',\n",
       "             importance_type=None, interaction_constraints='',\n",
       "             learning_rate=0.1, max_bin=256, max_cat_to_onehot=4,\n",
       "             max_delta_step=0, max_depth=8, max_leaves=0, min_child_weight=1,\n",
       "             missing=nan, monotone_constraints='()', n_estimators=100, n_jobs=0,\n",
       "             num_parallel_tree=1, predictor='auto', random_state=0, reg_alpha=0,\n",
       "             reg_lambda=1, ...)"
      ]
     },
     "execution_count": 48,
     "metadata": {},
     "output_type": "execute_result"
    }
   ],
   "source": [
    "# train the model\n",
    "\n",
    "model.fit(xtrain, ytrain)"
   ]
  },
  {
   "cell_type": "code",
   "execution_count": 49,
   "metadata": {
    "execution": {
     "iopub.execute_input": "2022-12-30T15:58:29.045301Z",
     "iopub.status.busy": "2022-12-30T15:58:29.044542Z",
     "iopub.status.idle": "2022-12-30T15:58:29.065033Z",
     "shell.execute_reply": "2022-12-30T15:58:29.064056Z",
     "shell.execute_reply.started": "2022-12-30T15:58:29.045259Z"
    }
   },
   "outputs": [],
   "source": [
    "y_pred = model.predict(xtest)"
   ]
  },
  {
   "cell_type": "code",
   "execution_count": 50,
   "metadata": {
    "execution": {
     "iopub.execute_input": "2022-12-30T15:58:29.067417Z",
     "iopub.status.busy": "2022-12-30T15:58:29.066691Z",
     "iopub.status.idle": "2022-12-30T15:58:29.077203Z",
     "shell.execute_reply": "2022-12-30T15:58:29.076224Z",
     "shell.execute_reply.started": "2022-12-30T15:58:29.067377Z"
    }
   },
   "outputs": [
    {
     "name": "stdout",
     "output_type": "stream",
     "text": [
      "Testing performance ~\n",
      "RMSE: 81.45\n",
      "R2: 0.93\n"
     ]
    }
   ],
   "source": [
    "rmse = np.sqrt(mean_squared_error(ytest, y_pred))\n",
    "r2 = r2_score(ytest, y_pred)\n",
    "\n",
    "print(\"Testing performance ~\")\n",
    "\n",
    "print(\"RMSE: {:.2f}\".format(rmse))\n",
    "print(\"R2: {:.2f}\".format(r2))"
   ]
  },
  {
   "cell_type": "markdown",
   "metadata": {},
   "source": [
    "# <font color = 'cyan'>Using MultiLayer Perceptron for prediction<font/><a class = 'anchor' id = 'perceptron'/>"
   ]
  },
  {
   "cell_type": "code",
   "execution_count": 51,
   "metadata": {
    "execution": {
     "iopub.execute_input": "2022-12-30T15:58:29.081959Z",
     "iopub.status.busy": "2022-12-30T15:58:29.081003Z",
     "iopub.status.idle": "2022-12-30T15:58:29.236783Z",
     "shell.execute_reply": "2022-12-30T15:58:29.235827Z",
     "shell.execute_reply.started": "2022-12-30T15:58:29.081923Z"
    }
   },
   "outputs": [
    {
     "name": "stdout",
     "output_type": "stream",
     "text": [
      "Model: \"sequential\"\n",
      "_________________________________________________________________\n",
      " Layer (type)                Output Shape              Param #   \n",
      "=================================================================\n",
      " dense (Dense)               (None, 128)               1920      \n",
      "                                                                 \n",
      " dropout (Dropout)           (None, 128)               0         \n",
      "                                                                 \n",
      " dense_1 (Dense)             (None, 64)                8256      \n",
      "                                                                 \n",
      " dropout_1 (Dropout)         (None, 64)                0         \n",
      "                                                                 \n",
      " dense_2 (Dense)             (None, 32)                2080      \n",
      "                                                                 \n",
      " dropout_2 (Dropout)         (None, 32)                0         \n",
      "                                                                 \n",
      " dense_3 (Dense)             (None, 1)                 33        \n",
      "                                                                 \n",
      "=================================================================\n",
      "Total params: 12,289\n",
      "Trainable params: 12,289\n",
      "Non-trainable params: 0\n",
      "_________________________________________________________________\n",
      "None\n"
     ]
    }
   ],
   "source": [
    "model = None\n",
    "model = Sequential()\n",
    "    \n",
    "model.add(Dense(128, activation='relu', input_dim=14))\n",
    "model.add(Dropout(0.33))\n",
    "    \n",
    "model.add(Dense(64, activation='relu'))\n",
    "model.add(Dropout(0.33))\n",
    "\n",
    "model.add(Dense(32, activation='relu'))\n",
    "model.add(Dropout(0.33))\n",
    "\n",
    "model.add(Dense(1, activation='linear'))\n",
    "    \n",
    "model.compile(metrics='mse', loss='mae', optimizer=Adam(learning_rate=0.001))\n",
    "print(model.summary())"
   ]
  },
  {
   "cell_type": "code",
   "execution_count": 52,
   "metadata": {
    "execution": {
     "iopub.execute_input": "2022-12-30T15:58:29.239013Z",
     "iopub.status.busy": "2022-12-30T15:58:29.238012Z",
     "iopub.status.idle": "2022-12-30T16:00:24.93862Z",
     "shell.execute_reply": "2022-12-30T16:00:24.93731Z",
     "shell.execute_reply.started": "2022-12-30T15:58:29.238976Z"
    },
    "scrolled": true
   },
   "outputs": [
    {
     "name": "stdout",
     "output_type": "stream",
     "text": [
      "Epoch 1/50\n",
      "736/736 [==============================] - 5s 4ms/step - loss: 122.1349 - mse: 56052.0430 - val_loss: 78.3812 - val_mse: 23379.9414\n",
      "Epoch 2/50\n",
      "736/736 [==============================] - 3s 4ms/step - loss: 85.8627 - mse: 28091.5020 - val_loss: 70.1704 - val_mse: 19113.4883\n",
      "Epoch 3/50\n",
      "736/736 [==============================] - 3s 4ms/step - loss: 81.6670 - mse: 25463.2402 - val_loss: 66.2093 - val_mse: 17056.7051\n",
      "Epoch 4/50\n",
      "736/736 [==============================] - 3s 4ms/step - loss: 79.0983 - mse: 23864.6035 - val_loss: 62.3057 - val_mse: 15089.0264\n",
      "Epoch 5/50\n",
      "736/736 [==============================] - 3s 4ms/step - loss: 75.8196 - mse: 22124.7734 - val_loss: 59.4825 - val_mse: 14193.1865\n",
      "Epoch 6/50\n",
      "736/736 [==============================] - 3s 4ms/step - loss: 74.6247 - mse: 21742.2031 - val_loss: 59.4037 - val_mse: 14516.0762\n",
      "Epoch 7/50\n",
      "736/736 [==============================] - 3s 4ms/step - loss: 72.0806 - mse: 20345.8555 - val_loss: 54.8762 - val_mse: 12719.1729\n",
      "Epoch 8/50\n",
      "736/736 [==============================] - 3s 4ms/step - loss: 71.5180 - mse: 20169.6074 - val_loss: 56.6222 - val_mse: 13584.7344\n",
      "Epoch 9/50\n",
      "736/736 [==============================] - 3s 4ms/step - loss: 71.1298 - mse: 20114.5684 - val_loss: 52.9464 - val_mse: 12386.6006\n",
      "Epoch 10/50\n",
      "736/736 [==============================] - 3s 4ms/step - loss: 69.3035 - mse: 19185.6777 - val_loss: 53.0337 - val_mse: 12311.0459\n",
      "Epoch 11/50\n",
      "736/736 [==============================] - 3s 4ms/step - loss: 68.9597 - mse: 19021.2754 - val_loss: 50.6982 - val_mse: 11652.8496\n",
      "Epoch 12/50\n",
      "736/736 [==============================] - 3s 4ms/step - loss: 68.1938 - mse: 18670.5176 - val_loss: 52.3218 - val_mse: 12044.5293\n",
      "Epoch 13/50\n",
      "736/736 [==============================] - 3s 4ms/step - loss: 66.3299 - mse: 17883.3555 - val_loss: 48.7241 - val_mse: 10906.9404\n",
      "Epoch 14/50\n",
      "736/736 [==============================] - 3s 4ms/step - loss: 66.0223 - mse: 17657.5098 - val_loss: 48.5613 - val_mse: 11013.7227\n",
      "Epoch 15/50\n",
      "736/736 [==============================] - 3s 4ms/step - loss: 66.3113 - mse: 17712.0312 - val_loss: 50.0430 - val_mse: 11467.3447\n",
      "Epoch 16/50\n",
      "736/736 [==============================] - 3s 4ms/step - loss: 66.0029 - mse: 17566.1367 - val_loss: 47.1752 - val_mse: 10559.0576\n",
      "Epoch 17/50\n",
      "736/736 [==============================] - 3s 4ms/step - loss: 65.0400 - mse: 17353.4805 - val_loss: 47.9067 - val_mse: 10794.9834\n",
      "Epoch 18/50\n",
      "736/736 [==============================] - 3s 4ms/step - loss: 64.5620 - mse: 17124.5215 - val_loss: 47.3883 - val_mse: 10770.0869\n",
      "Epoch 19/50\n",
      "736/736 [==============================] - 3s 4ms/step - loss: 63.8254 - mse: 16903.5625 - val_loss: 50.8644 - val_mse: 11564.0830\n",
      "Epoch 20/50\n",
      "736/736 [==============================] - 3s 4ms/step - loss: 63.8144 - mse: 16739.4219 - val_loss: 50.0358 - val_mse: 11245.4189\n",
      "Epoch 21/50\n",
      "736/736 [==============================] - 3s 4ms/step - loss: 64.0364 - mse: 16844.8926 - val_loss: 47.0235 - val_mse: 10500.7529\n",
      "Epoch 22/50\n",
      "736/736 [==============================] - 3s 4ms/step - loss: 63.0069 - mse: 16461.3496 - val_loss: 47.6492 - val_mse: 10562.5049\n",
      "Epoch 23/50\n",
      "736/736 [==============================] - 3s 4ms/step - loss: 63.2545 - mse: 16337.2168 - val_loss: 46.9812 - val_mse: 10461.9980\n",
      "Epoch 24/50\n",
      "736/736 [==============================] - 3s 4ms/step - loss: 63.2805 - mse: 16662.3301 - val_loss: 45.9391 - val_mse: 10222.9941\n",
      "Epoch 25/50\n",
      "736/736 [==============================] - 3s 4ms/step - loss: 62.5779 - mse: 16226.8896 - val_loss: 46.5466 - val_mse: 10404.1992\n",
      "Epoch 26/50\n",
      "736/736 [==============================] - 3s 4ms/step - loss: 61.8336 - mse: 15844.1016 - val_loss: 48.3023 - val_mse: 10692.7471\n",
      "Epoch 27/50\n",
      "736/736 [==============================] - 3s 4ms/step - loss: 61.8880 - mse: 15990.2725 - val_loss: 48.0191 - val_mse: 10447.5254\n",
      "Epoch 28/50\n",
      "736/736 [==============================] - 3s 4ms/step - loss: 61.4467 - mse: 15803.7451 - val_loss: 45.3661 - val_mse: 9915.0039\n",
      "Epoch 29/50\n",
      "736/736 [==============================] - 3s 4ms/step - loss: 61.8555 - mse: 15877.9121 - val_loss: 44.2333 - val_mse: 9665.3867\n",
      "Epoch 30/50\n",
      "736/736 [==============================] - 3s 4ms/step - loss: 62.2845 - mse: 16203.2051 - val_loss: 45.6221 - val_mse: 10364.3447\n",
      "Epoch 31/50\n",
      "736/736 [==============================] - 3s 4ms/step - loss: 61.0514 - mse: 15874.4775 - val_loss: 48.8612 - val_mse: 11104.0977\n",
      "Epoch 32/50\n",
      "736/736 [==============================] - 3s 4ms/step - loss: 61.3048 - mse: 15749.7236 - val_loss: 47.8707 - val_mse: 10602.1289\n",
      "Epoch 33/50\n",
      "736/736 [==============================] - 3s 4ms/step - loss: 60.8182 - mse: 15633.9248 - val_loss: 44.6219 - val_mse: 9830.0752\n",
      "Epoch 34/50\n",
      "736/736 [==============================] - 3s 4ms/step - loss: 60.4258 - mse: 15374.8955 - val_loss: 46.3313 - val_mse: 10209.9160\n",
      "Epoch 35/50\n",
      "736/736 [==============================] - 3s 4ms/step - loss: 60.8535 - mse: 15771.4746 - val_loss: 44.7150 - val_mse: 9886.0596\n",
      "Epoch 36/50\n",
      "736/736 [==============================] - 3s 4ms/step - loss: 60.5209 - mse: 15492.2969 - val_loss: 43.7626 - val_mse: 9781.5977\n",
      "Epoch 37/50\n",
      "736/736 [==============================] - 3s 4ms/step - loss: 60.4258 - mse: 15411.8457 - val_loss: 42.9396 - val_mse: 9673.3232\n",
      "Epoch 38/50\n",
      "736/736 [==============================] - 3s 4ms/step - loss: 60.4473 - mse: 15548.5801 - val_loss: 43.6657 - val_mse: 9610.9863\n",
      "Epoch 39/50\n",
      "736/736 [==============================] - 3s 4ms/step - loss: 60.6013 - mse: 15787.2676 - val_loss: 46.4012 - val_mse: 10343.7383\n",
      "Epoch 40/50\n",
      "736/736 [==============================] - 3s 4ms/step - loss: 59.6675 - mse: 15191.9150 - val_loss: 45.1730 - val_mse: 10031.2305\n",
      "Epoch 41/50\n",
      "736/736 [==============================] - 3s 4ms/step - loss: 59.6406 - mse: 15130.6357 - val_loss: 44.7867 - val_mse: 9629.1055\n",
      "Epoch 42/50\n",
      "736/736 [==============================] - 3s 4ms/step - loss: 59.7080 - mse: 15385.9326 - val_loss: 44.0950 - val_mse: 9667.1230\n",
      "Epoch 43/50\n",
      "736/736 [==============================] - 3s 4ms/step - loss: 59.3450 - mse: 14990.3184 - val_loss: 44.9588 - val_mse: 10179.1201\n",
      "Epoch 44/50\n",
      "736/736 [==============================] - 3s 4ms/step - loss: 59.5944 - mse: 15173.4443 - val_loss: 43.7520 - val_mse: 9918.8525\n",
      "Epoch 45/50\n",
      "736/736 [==============================] - 3s 4ms/step - loss: 59.4124 - mse: 15143.3252 - val_loss: 44.0506 - val_mse: 9815.4375\n",
      "Epoch 46/50\n",
      "736/736 [==============================] - 3s 4ms/step - loss: 59.3510 - mse: 15057.2764 - val_loss: 46.6562 - val_mse: 10752.8262\n",
      "Epoch 47/50\n",
      "736/736 [==============================] - 3s 4ms/step - loss: 58.8412 - mse: 14907.6797 - val_loss: 44.3106 - val_mse: 10047.3105\n",
      "Epoch 48/50\n",
      "736/736 [==============================] - 3s 4ms/step - loss: 59.6497 - mse: 15354.9062 - val_loss: 43.6957 - val_mse: 9752.0479\n",
      "Epoch 49/50\n",
      "736/736 [==============================] - 3s 4ms/step - loss: 59.3520 - mse: 15116.2383 - val_loss: 44.0112 - val_mse: 9743.6104\n",
      "Epoch 50/50\n",
      "736/736 [==============================] - 3s 4ms/step - loss: 58.5991 - mse: 14817.3838 - val_loss: 43.1024 - val_mse: 9730.0381\n"
     ]
    }
   ],
   "source": [
    "history = model.fit(xtrain, ytrain, validation_split=0.1, epochs=50, batch_size=32)"
   ]
  },
  {
   "cell_type": "code",
   "execution_count": 53,
   "metadata": {
    "execution": {
     "iopub.execute_input": "2022-12-30T16:00:24.940895Z",
     "iopub.status.busy": "2022-12-30T16:00:24.940449Z",
     "iopub.status.idle": "2022-12-30T16:00:25.834897Z",
     "shell.execute_reply": "2022-12-30T16:00:25.833576Z",
     "shell.execute_reply.started": "2022-12-30T16:00:24.94085Z"
    }
   },
   "outputs": [
    {
     "data": {
      "image/png": "[encoded data removed]",
      "text/plain": [
       "<Figure size 864x432 with 1 Axes>"
      ]
     },
     "metadata": {
      "needs_background": "light"
     },
     "output_type": "display_data"
    },
    {
     "data": {
      "image/png": "[encoded data removed]",
      "text/plain": [
       "<Figure size 864x432 with 1 Axes>"
      ]
     },
     "metadata": {
      "needs_background": "light"
     },
     "output_type": "display_data"
    },
    {
     "data": {
      "image/png": "[encoded data removed]",
      "text/plain": [
       "<Figure size 864x432 with 1 Axes>"
      ]
     },
     "metadata": {
      "needs_background": "light"
     },
     "output_type": "display_data"
    },
    {
     "data": {
      "image/png": "[encoded data removed]",
      "text/plain": [
       "<Figure size 864x432 with 1 Axes>"
      ]
     },
     "metadata": {
      "needs_background": "light"
     },
     "output_type": "display_data"
    }
   ],
   "source": [
    "fit = history.history\n",
    "for i in fit:\n",
    "    plt.plot(fit[i])\n",
    "    plt.title(i + ' over epochs')\n",
    "    plt.ylabel(i)\n",
    "    plt.xlabel('epochs')\n",
    "    plt.show()"
   ]
  },
  {
   "cell_type": "code",
   "execution_count": 54,
   "metadata": {
    "execution": {
     "iopub.execute_input": "2022-12-30T16:00:25.837491Z",
     "iopub.status.busy": "2022-12-30T16:00:25.836673Z",
     "iopub.status.idle": "2022-12-30T16:00:26.304829Z",
     "shell.execute_reply": "2022-12-30T16:00:26.303553Z",
     "shell.execute_reply.started": "2022-12-30T16:00:25.83745Z"
    }
   },
   "outputs": [
    {
     "name": "stdout",
     "output_type": "stream",
     "text": [
      "205/205 [==============================] - 0s 2ms/step - loss: 41.0817 - mse: 9624.8281\n"
     ]
    }
   ],
   "source": [
    "scores = model.evaluate(xtest, ytest)\n",
    "mae = scores[0]\n",
    "mse = scores[1]"
   ]
  },
  {
   "cell_type": "code",
   "execution_count": 55,
   "metadata": {},
   "outputs": [
    {
     "name": "stdout",
     "output_type": "stream",
     "text": [
      "205/205 [==============================] - 1s 2ms/step\n"
     ]
    }
   ],
   "source": [
    "y_pred = model.predict(xtest)"
   ]
  },
  {
   "cell_type": "code",
   "execution_count": 56,
   "metadata": {},
   "outputs": [
    {
     "data": {
      "text/plain": [
       "0.9011914263301406"
      ]
     },
     "execution_count": 56,
     "metadata": {},
     "output_type": "execute_result"
    }
   ],
   "source": [
    "r2 = r2_score(ytest, y_pred)\n",
    "r2"
   ]
  },
  {
   "cell_type": "code",
   "execution_count": 57,
   "metadata": {
    "execution": {
     "iopub.execute_input": "2022-12-30T16:00:26.308835Z",
     "iopub.status.busy": "2022-12-30T16:00:26.308127Z",
     "iopub.status.idle": "2022-12-30T16:00:26.315654Z",
     "shell.execute_reply": "2022-12-30T16:00:26.314363Z",
     "shell.execute_reply.started": "2022-12-30T16:00:26.30873Z"
    }
   },
   "outputs": [
    {
     "name": "stdout",
     "output_type": "stream",
     "text": [
      "Mean absolute error:  41.08173751831055\n",
      "Mean squared error:  9624.828125\n",
      "RMSE: 81.45\n"
     ]
    }
   ],
   "source": [
    "print('Mean absolute error: ', mae)\n",
    "print('Mean squared error: ', mse)\n",
    "print(\"RMSE: {:.2f}\".format(rmse))"
   ]
  },
  {
   "cell_type": "code",
   "execution_count": null,
   "metadata": {},
   "outputs": [],
   "source": []
  }
 ],
 "metadata": {
  "kernelspec": {
   "display_name": "Python 3 (ipykernel)",
   "language": "python",
   "name": "python3"
  },
  "language_info": {
   "codemirror_mode": {
    "name": "ipython",
    "version": 3
   },
   "file_extension": ".py",
   "mimetype": "text/x-python",
   "name": "python",
   "nbconvert_exporter": "python",
   "pygments_lexer": "ipython3",
   "version": "3.9.12"
  }
 },
 "nbformat": 4,
 "nbformat_minor": 4
}
